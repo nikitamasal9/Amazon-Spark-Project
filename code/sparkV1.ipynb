{
 "cells": [
  {
   "cell_type": "markdown",
   "id": "411d9fde-98c1-44cb-b1ce-5baf5980bb7d",
   "metadata": {},
   "source": [
    "Importing necessary modules\n",
    "- Modules like pyspark, os have been imported"
   ]
  },
  {
   "cell_type": "code",
   "execution_count": 1,
   "id": "2ac1cb68-9dcc-4259-8019-5f303ec35f99",
   "metadata": {},
   "outputs": [],
   "source": [
    "import pyspark"
   ]
  },
  {
   "cell_type": "code",
   "execution_count": 2,
   "id": "d3fa1851-8b3f-4918-8799-8f1e8ddd7850",
   "metadata": {},
   "outputs": [],
   "source": [
    "import pyspark.sql.functions as F"
   ]
  },
  {
   "cell_type": "code",
   "execution_count": 3,
   "id": "94696a72-fa40-477d-bcea-c5bb9efbd7df",
   "metadata": {},
   "outputs": [],
   "source": [
    "import os"
   ]
  },
  {
   "cell_type": "code",
   "execution_count": 4,
   "id": "d51c36d4-b931-45a6-8bf7-ad3c64829629",
   "metadata": {},
   "outputs": [],
   "source": [
    "import pyspark"
   ]
  },
  {
   "cell_type": "code",
   "execution_count": 5,
   "id": "e80fd06d-028c-411a-9833-8ea5ee20930d",
   "metadata": {},
   "outputs": [],
   "source": [
    "from pyspark.sql.types import IntegerType,FloatType,DateType"
   ]
  },
  {
   "cell_type": "markdown",
   "id": "bf2e6477-ac78-442c-ab82-88a418c8d9af",
   "metadata": {},
   "source": [
    "A spark session has been created"
   ]
  },
  {
   "cell_type": "code",
   "execution_count": 6,
   "id": "f4ce17af-9b68-46da-aff9-7455d428e0dd",
   "metadata": {},
   "outputs": [
    {
     "name": "stdout",
     "output_type": "stream",
     "text": [
      "24/03/06 12:32:49 WARN Utils: Your hostname, DESKTOP-77VPNBL resolves to a loopback address: 127.0.1.1; using 172.25.173.185 instead (on interface eth0)\n",
      "24/03/06 12:32:49 WARN Utils: Set SPARK_LOCAL_IP if you need to bind to another address\n"
     ]
    },
    {
     "name": "stderr",
     "output_type": "stream",
     "text": [
      "Setting default log level to \"WARN\".\n",
      "To adjust logging level use sc.setLogLevel(newLevel). For SparkR, use setLogLevel(newLevel).\n"
     ]
    },
    {
     "name": "stdout",
     "output_type": "stream",
     "text": [
      "24/03/06 12:32:51 WARN NativeCodeLoader: Unable to load native-hadoop library for your platform... using builtin-java classes where applicable\n"
     ]
    }
   ],
   "source": [
    "from pyspark.sql import SparkSession\n",
    "\n",
    "spark = SparkSession.builder.appName('Spark project')\\\n",
    "        .getOrCreate()"
   ]
  },
  {
   "cell_type": "markdown",
   "id": "7cc97f68-3442-4c42-ab61-2a7c87bdf8b9",
   "metadata": {},
   "source": [
    "Importing data for the project\n",
    "- A dataset, which has been named as jewelry.csv has been imported"
   ]
  },
  {
   "cell_type": "code",
   "execution_count": 7,
   "id": "a2d22a24-84f7-49bf-9330-16a9e6c8c925",
   "metadata": {},
   "outputs": [],
   "source": [
    "jewel = spark.read.csv(\"../dataset/jewelry.csv\", header=\"True\")"
   ]
  },
  {
   "cell_type": "code",
   "execution_count": 8,
   "id": "ee06a9da-befc-4912-a0b8-16c41946e10b",
   "metadata": {},
   "outputs": [
    {
     "name": "stdout",
     "output_type": "stream",
     "text": [
      "+--------------------+-----------+--------------------+----------------------------+-----------+----------------+--------+------------+-----------+--------------+--------------+-------------+--------+\n",
      "|      Order datetime|   Order ID|Purchased product ID|Quantity of SKU in the order|Category ID|  Category alias|Brand ID|Price in USD|    User ID|Product gender|Product colour|Material used|    Gems|\n",
      "+--------------------+-----------+--------------------+----------------------------+-----------+----------------+--------+------------+-----------+--------------+--------------+-------------+--------+\n",
      "|2018-12-01 11:40:...|1.92472E+18|          1.8422E+18|                           1|1.80683E+18| jewelry.earring|       0|      561.51|1.51592E+18|          null|           red|         gold| diamond|\n",
      "|2018-12-01 17:38:...| 1.9249E+18|         1.80683E+18|                           1|1.80683E+18|            null|    null|      212.14|1.51592E+18|          null|        yellow|         gold|    null|\n",
      "|2018-12-02 13:53:...|1.92551E+18|         1.84221E+18|                           1|1.80683E+18| jewelry.pendant|       1|       54.66|1.51592E+18|             f|         white|         gold|sapphire|\n",
      "|2018-12-02 17:44:...|1.92563E+18|         1.83557E+18|                           1|1.80683E+18| jewelry.pendant|       0|        88.9|1.51592E+18|             f|           red|         gold| diamond|\n",
      "|2018-12-02 21:30:...|1.92574E+18|         1.87394E+18|                           1|1.80683E+18|jewelry.necklace|       0|      417.67|1.51592E+18|          null|           red|         gold|amethyst|\n",
      "|2018-12-02 22:09:...|1.92576E+18|         1.83557E+18|                           1|1.80683E+18| jewelry.earring|       1|      102.27|1.51592E+18|          null|           red|         gold|    null|\n",
      "|2018-12-02 22:09:...|1.92576E+18|         1.60002E+18|                           1|1.80683E+18| jewelry.earring|       0|      150.55|1.51592E+18|          null|           red|         gold| diamond|\n",
      "|2018-12-02 22:16:...|1.92576E+18|         1.83557E+18|                           1|1.80683E+18| jewelry.earring|       0|       83.42|1.51592E+18|          null|         white|         gold|  fianit|\n",
      "|2018-12-03 07:03:...|1.92603E+18|          1.8118E+18|                           1|1.80683E+18| jewelry.pendant|       2|       60.27|1.51592E+18|             f|           red|         gold|   pearl|\n",
      "|2018-12-03 09:48:...|1.92611E+18|         1.83628E+18|                           1|1.80683E+18| jewelry.earring|       1|       217.4|1.51592E+18|          null|           red|         gold| diamond|\n",
      "|2018-12-03 09:48:...|1.92611E+18|         1.87764E+18|                           1|1.80683E+18|    jewelry.ring|       1|      180.71|1.51592E+18|          null|         white|         gold| diamond|\n",
      "|2018-12-03 09:48:...|1.92611E+18|         1.87834E+18|                           1|1.80683E+18|  jewelry.brooch|       1|       232.1|1.51592E+18|          null|           red|         gold|  fianit|\n",
      "|2018-12-03 11:14:...|1.92616E+18|         1.83955E+18|                           1|1.80683E+18|    jewelry.ring|       1|      203.92|1.51592E+18|          null|        yellow|         gold|    null|\n",
      "|2018-12-03 18:43:...|1.92638E+18|         1.80746E+18|                           1|1.80683E+18| jewelry.earring|       0|       84.45|1.51592E+18|          null|         white|         gold|  fianit|\n",
      "|2018-12-04 06:04:...|1.92672E+18|         1.83975E+18|                           1|1.80683E+18|    jewelry.ring|       0|      254.45|1.51592E+18|          null|           red|         gold|amethyst|\n",
      "|2018-12-04 08:06:...|1.92679E+18|         1.83809E+18|                           1|1.80683E+18| jewelry.earring|       0|      251.15|1.51592E+18|          null|           red|         gold|  quartz|\n",
      "|2018-12-04 12:40:...|1.92692E+18|          1.8744E+18|                           1|1.80683E+18|    jewelry.ring|       1|      154.88|1.51592E+18|          null|         white|         gold| diamond|\n",
      "|2018-12-04 12:40:...|1.92692E+18|          1.8744E+18|                           1|1.80683E+18|    jewelry.ring|       1|      154.88|1.51592E+18|          null|         white|         gold| diamond|\n",
      "|2018-12-04 17:18:...|1.92706E+18|         1.83683E+18|                           1|1.80683E+18| jewelry.earring|       0|      2171.1|1.51592E+18|          null|        yellow|         gold|   topaz|\n",
      "|2018-12-04 19:55:...|1.92714E+18|         1.80757E+18|                           1|1.80683E+18| jewelry.earring|       1|       102.6|1.51592E+18|             f|        yellow|         gold|  garnet|\n",
      "+--------------------+-----------+--------------------+----------------------------+-----------+----------------+--------+------------+-----------+--------------+--------------+-------------+--------+\n",
      "only showing top 20 rows\n",
      "\n"
     ]
    }
   ],
   "source": [
    "jewel.show()"
   ]
  },
  {
   "cell_type": "code",
   "execution_count": 9,
   "id": "6b1b5e46-2121-4ee8-968c-51bcd461db8a",
   "metadata": {},
   "outputs": [
    {
     "name": "stdout",
     "output_type": "stream",
     "text": [
      "root\n",
      " |-- Order datetime: string (nullable = true)\n",
      " |-- Order ID: string (nullable = true)\n",
      " |-- Purchased product ID: string (nullable = true)\n",
      " |-- Quantity of SKU in the order: string (nullable = true)\n",
      " |-- Category ID: string (nullable = true)\n",
      " |-- Category alias: string (nullable = true)\n",
      " |-- Brand ID: string (nullable = true)\n",
      " |-- Price in USD: string (nullable = true)\n",
      " |-- User ID: string (nullable = true)\n",
      " |-- Product gender: string (nullable = true)\n",
      " |-- Product colour: string (nullable = true)\n",
      " |-- Material used: string (nullable = true)\n",
      " |-- Gems: string (nullable = true)\n",
      "\n"
     ]
    }
   ],
   "source": [
    "jewel.printSchema()"
   ]
  },
  {
   "cell_type": "code",
   "execution_count": 10,
   "id": "94811a35-5d11-450d-b198-426dc5a581c2",
   "metadata": {},
   "outputs": [
    {
     "data": {
      "text/plain": [
       "95911"
      ]
     },
     "execution_count": 10,
     "metadata": {},
     "output_type": "execute_result"
    }
   ],
   "source": [
    "jewel.count()"
   ]
  },
  {
   "cell_type": "markdown",
   "id": "cc331d38-434a-45a1-b929-fbe93c6d2b14",
   "metadata": {},
   "source": [
    "Temporary view has been created"
   ]
  },
  {
   "cell_type": "code",
   "execution_count": 11,
   "id": "a7deaa1b-23e1-4388-af13-968656b93e58",
   "metadata": {},
   "outputs": [],
   "source": [
    "jewel.createOrReplaceTempView(\"jewel\")"
   ]
  },
  {
   "cell_type": "code",
   "execution_count": 12,
   "id": "1e21cde6-c3fd-4f99-b0d5-d11fe034406a",
   "metadata": {},
   "outputs": [],
   "source": [
    "a = jewel.groupby(\"Brand ID\").count()"
   ]
  },
  {
   "cell_type": "code",
   "execution_count": 13,
   "id": "e192cc73-8959-4168-8bbb-ef8023260704",
   "metadata": {},
   "outputs": [
    {
     "name": "stderr",
     "output_type": "stream",
     "text": [
      "[Stage 5:>                                                          (0 + 3) / 3]\r"
     ]
    },
    {
     "name": "stdout",
     "output_type": "stream",
     "text": [
      "+-----------+-----+\n",
      "|   Brand ID|count|\n",
      "+-----------+-----+\n",
      "|          3|   58|\n",
      "|          0|44600|\n",
      "|       null| 4785|\n",
      "|          5|    7|\n",
      "|          6|   56|\n",
      "|1.55061E+18|    9|\n",
      "|1.51592E+18| 5251|\n",
      "|          1|32022|\n",
      "|          4|   65|\n",
      "|1.32516E+18|   26|\n",
      "|          2| 8966|\n",
      "|1.46964E+18|    1|\n",
      "|1.33505E+18|    1|\n",
      "|1.46477E+18|    2|\n",
      "|1.32042E+18|    1|\n",
      "|1.47047E+18|    7|\n",
      "|1.50208E+18|    1|\n",
      "|1.33384E+18|    1|\n",
      "| 1.3139E+18|    1|\n",
      "| 1.3181E+18|    5|\n",
      "+-----------+-----+\n",
      "only showing top 20 rows\n",
      "\n"
     ]
    },
    {
     "name": "stderr",
     "output_type": "stream",
     "text": [
      "                                                                                \r"
     ]
    }
   ],
   "source": [
    "a.show()"
   ]
  },
  {
   "cell_type": "markdown",
   "id": "368c7d5b-94e9-447c-81f3-3b189c93e784",
   "metadata": {},
   "source": [
    "Data cleaning has been done\n",
    "- Null values heve been checked and removed.\n",
    "- Duplicate rows have been eliminated."
   ]
  },
  {
   "cell_type": "code",
   "execution_count": 14,
   "id": "0324bf84-1ffe-4b75-bfd1-9450d6cd8424",
   "metadata": {},
   "outputs": [
    {
     "name": "stdout",
     "output_type": "stream",
     "text": [
      "+------------------+\n",
      "|(Brand ID IS NULL)|\n",
      "+------------------+\n",
      "|             false|\n",
      "|              true|\n",
      "|             false|\n",
      "|             false|\n",
      "|             false|\n",
      "|             false|\n",
      "|             false|\n",
      "|             false|\n",
      "|             false|\n",
      "|             false|\n",
      "|             false|\n",
      "|             false|\n",
      "|             false|\n",
      "|             false|\n",
      "|             false|\n",
      "|             false|\n",
      "|             false|\n",
      "|             false|\n",
      "|             false|\n",
      "|             false|\n",
      "+------------------+\n",
      "only showing top 20 rows\n",
      "\n"
     ]
    }
   ],
   "source": [
    "jewel.select(jewel['Brand ID'].isNull()).show()"
   ]
  },
  {
   "cell_type": "code",
   "execution_count": 15,
   "id": "dfca147b-7ef5-4ec6-ad2b-69cf0a710062",
   "metadata": {},
   "outputs": [
    {
     "name": "stdout",
     "output_type": "stream",
     "text": [
      "+--------------------+-----------+--------------------+----------------------------+-----------+----------------+--------+------------+-----------+--------------+--------------+-------------+--------+\n",
      "|      Order datetime|   Order ID|Purchased product ID|Quantity of SKU in the order|Category ID|  Category alias|Brand ID|Price in USD|    User ID|Product gender|Product colour|Material used|    Gems|\n",
      "+--------------------+-----------+--------------------+----------------------------+-----------+----------------+--------+------------+-----------+--------------+--------------+-------------+--------+\n",
      "|2018-12-01 11:40:...|1.92472E+18|          1.8422E+18|                           1|1.80683E+18| jewelry.earring|       0|      561.51|1.51592E+18|          null|           red|         gold| diamond|\n",
      "|2018-12-01 17:38:...| 1.9249E+18|         1.80683E+18|                           1|1.80683E+18|            null|    null|      212.14|1.51592E+18|          null|        yellow|         gold|    null|\n",
      "|2018-12-02 13:53:...|1.92551E+18|         1.84221E+18|                           1|1.80683E+18| jewelry.pendant|       1|       54.66|1.51592E+18|             f|         white|         gold|sapphire|\n",
      "|2018-12-02 17:44:...|1.92563E+18|         1.83557E+18|                           1|1.80683E+18| jewelry.pendant|       0|        88.9|1.51592E+18|             f|           red|         gold| diamond|\n",
      "|2018-12-02 21:30:...|1.92574E+18|         1.87394E+18|                           1|1.80683E+18|jewelry.necklace|       0|      417.67|1.51592E+18|          null|           red|         gold|amethyst|\n",
      "|2018-12-02 22:09:...|1.92576E+18|         1.83557E+18|                           1|1.80683E+18| jewelry.earring|       1|      102.27|1.51592E+18|          null|           red|         gold|    null|\n",
      "|2018-12-02 22:09:...|1.92576E+18|         1.60002E+18|                           1|1.80683E+18| jewelry.earring|       0|      150.55|1.51592E+18|          null|           red|         gold| diamond|\n",
      "|2018-12-02 22:16:...|1.92576E+18|         1.83557E+18|                           1|1.80683E+18| jewelry.earring|       0|       83.42|1.51592E+18|          null|         white|         gold|  fianit|\n",
      "|2018-12-03 07:03:...|1.92603E+18|          1.8118E+18|                           1|1.80683E+18| jewelry.pendant|       2|       60.27|1.51592E+18|             f|           red|         gold|   pearl|\n",
      "|2018-12-03 09:48:...|1.92611E+18|         1.83628E+18|                           1|1.80683E+18| jewelry.earring|       1|       217.4|1.51592E+18|          null|           red|         gold| diamond|\n",
      "|2018-12-03 09:48:...|1.92611E+18|         1.87764E+18|                           1|1.80683E+18|    jewelry.ring|       1|      180.71|1.51592E+18|          null|         white|         gold| diamond|\n",
      "|2018-12-03 09:48:...|1.92611E+18|         1.87834E+18|                           1|1.80683E+18|  jewelry.brooch|       1|       232.1|1.51592E+18|          null|           red|         gold|  fianit|\n",
      "|2018-12-03 11:14:...|1.92616E+18|         1.83955E+18|                           1|1.80683E+18|    jewelry.ring|       1|      203.92|1.51592E+18|          null|        yellow|         gold|    null|\n",
      "|2018-12-03 18:43:...|1.92638E+18|         1.80746E+18|                           1|1.80683E+18| jewelry.earring|       0|       84.45|1.51592E+18|          null|         white|         gold|  fianit|\n",
      "|2018-12-04 06:04:...|1.92672E+18|         1.83975E+18|                           1|1.80683E+18|    jewelry.ring|       0|      254.45|1.51592E+18|          null|           red|         gold|amethyst|\n",
      "|2018-12-04 08:06:...|1.92679E+18|         1.83809E+18|                           1|1.80683E+18| jewelry.earring|       0|      251.15|1.51592E+18|          null|           red|         gold|  quartz|\n",
      "|2018-12-04 12:40:...|1.92692E+18|          1.8744E+18|                           1|1.80683E+18|    jewelry.ring|       1|      154.88|1.51592E+18|          null|         white|         gold| diamond|\n",
      "|2018-12-04 12:40:...|1.92692E+18|          1.8744E+18|                           1|1.80683E+18|    jewelry.ring|       1|      154.88|1.51592E+18|          null|         white|         gold| diamond|\n",
      "|2018-12-04 17:18:...|1.92706E+18|         1.83683E+18|                           1|1.80683E+18| jewelry.earring|       0|      2171.1|1.51592E+18|          null|        yellow|         gold|   topaz|\n",
      "|2018-12-04 19:55:...|1.92714E+18|         1.80757E+18|                           1|1.80683E+18| jewelry.earring|       1|       102.6|1.51592E+18|             f|        yellow|         gold|  garnet|\n",
      "+--------------------+-----------+--------------------+----------------------------+-----------+----------------+--------+------------+-----------+--------------+--------------+-------------+--------+\n",
      "only showing top 20 rows\n",
      "\n"
     ]
    }
   ],
   "source": [
    "jewel.show()"
   ]
  },
  {
   "cell_type": "code",
   "execution_count": 16,
   "id": "e61a9955-095d-4c85-874d-5deed13760de",
   "metadata": {},
   "outputs": [
    {
     "name": "stdout",
     "output_type": "stream",
     "text": [
      "+--------------------+-----------+--------------------+----------------------------+-----------+----------------+--------+------------+-----------+--------------+--------------+-------------+--------+\n",
      "|      Order datetime|   Order ID|Purchased product ID|Quantity of SKU in the order|Category ID|  Category alias|Brand ID|Price in USD|    User ID|Product gender|Product colour|Material used|    Gems|\n",
      "+--------------------+-----------+--------------------+----------------------------+-----------+----------------+--------+------------+-----------+--------------+--------------+-------------+--------+\n",
      "|2018-12-01 11:40:...|1.92472E+18|          1.8422E+18|                           1|1.80683E+18| jewelry.earring|       0|      561.51|1.51592E+18|          null|           red|         gold| diamond|\n",
      "|2018-12-02 13:53:...|1.92551E+18|         1.84221E+18|                           1|1.80683E+18| jewelry.pendant|       1|       54.66|1.51592E+18|             f|         white|         gold|sapphire|\n",
      "|2018-12-02 17:44:...|1.92563E+18|         1.83557E+18|                           1|1.80683E+18| jewelry.pendant|       0|        88.9|1.51592E+18|             f|           red|         gold| diamond|\n",
      "|2018-12-02 21:30:...|1.92574E+18|         1.87394E+18|                           1|1.80683E+18|jewelry.necklace|       0|      417.67|1.51592E+18|          null|           red|         gold|amethyst|\n",
      "|2018-12-02 22:09:...|1.92576E+18|         1.83557E+18|                           1|1.80683E+18| jewelry.earring|       1|      102.27|1.51592E+18|          null|           red|         gold|    null|\n",
      "|2018-12-02 22:09:...|1.92576E+18|         1.60002E+18|                           1|1.80683E+18| jewelry.earring|       0|      150.55|1.51592E+18|          null|           red|         gold| diamond|\n",
      "|2018-12-02 22:16:...|1.92576E+18|         1.83557E+18|                           1|1.80683E+18| jewelry.earring|       0|       83.42|1.51592E+18|          null|         white|         gold|  fianit|\n",
      "|2018-12-03 07:03:...|1.92603E+18|          1.8118E+18|                           1|1.80683E+18| jewelry.pendant|       2|       60.27|1.51592E+18|             f|           red|         gold|   pearl|\n",
      "|2018-12-03 09:48:...|1.92611E+18|         1.83628E+18|                           1|1.80683E+18| jewelry.earring|       1|       217.4|1.51592E+18|          null|           red|         gold| diamond|\n",
      "|2018-12-03 09:48:...|1.92611E+18|         1.87764E+18|                           1|1.80683E+18|    jewelry.ring|       1|      180.71|1.51592E+18|          null|         white|         gold| diamond|\n",
      "|2018-12-03 09:48:...|1.92611E+18|         1.87834E+18|                           1|1.80683E+18|  jewelry.brooch|       1|       232.1|1.51592E+18|          null|           red|         gold|  fianit|\n",
      "|2018-12-03 11:14:...|1.92616E+18|         1.83955E+18|                           1|1.80683E+18|    jewelry.ring|       1|      203.92|1.51592E+18|          null|        yellow|         gold|    null|\n",
      "|2018-12-03 18:43:...|1.92638E+18|         1.80746E+18|                           1|1.80683E+18| jewelry.earring|       0|       84.45|1.51592E+18|          null|         white|         gold|  fianit|\n",
      "|2018-12-04 06:04:...|1.92672E+18|         1.83975E+18|                           1|1.80683E+18|    jewelry.ring|       0|      254.45|1.51592E+18|          null|           red|         gold|amethyst|\n",
      "|2018-12-04 08:06:...|1.92679E+18|         1.83809E+18|                           1|1.80683E+18| jewelry.earring|       0|      251.15|1.51592E+18|          null|           red|         gold|  quartz|\n",
      "|2018-12-04 12:40:...|1.92692E+18|          1.8744E+18|                           1|1.80683E+18|    jewelry.ring|       1|      154.88|1.51592E+18|          null|         white|         gold| diamond|\n",
      "|2018-12-04 12:40:...|1.92692E+18|          1.8744E+18|                           1|1.80683E+18|    jewelry.ring|       1|      154.88|1.51592E+18|          null|         white|         gold| diamond|\n",
      "|2018-12-04 17:18:...|1.92706E+18|         1.83683E+18|                           1|1.80683E+18| jewelry.earring|       0|      2171.1|1.51592E+18|          null|        yellow|         gold|   topaz|\n",
      "|2018-12-04 19:55:...|1.92714E+18|         1.80757E+18|                           1|1.80683E+18| jewelry.earring|       1|       102.6|1.51592E+18|             f|        yellow|         gold|  garnet|\n",
      "|2018-12-04 20:10:...|1.92715E+18|         1.80683E+18|                           1|1.80683E+18| jewelry.pendant|       1|       61.51|1.51592E+18|             f|        yellow|         gold|  garnet|\n",
      "+--------------------+-----------+--------------------+----------------------------+-----------+----------------+--------+------------+-----------+--------------+--------------+-------------+--------+\n",
      "only showing top 20 rows\n",
      "\n"
     ]
    }
   ],
   "source": [
    "nonullBrand = jewel.na.drop(subset = \"Brand ID\").show()"
   ]
  },
  {
   "cell_type": "code",
   "execution_count": 17,
   "id": "b94fa522-234a-42c4-9370-eb145a821c03",
   "metadata": {},
   "outputs": [
    {
     "name": "stdout",
     "output_type": "stream",
     "text": [
      "+------------------+\n",
      "|(Brand ID IS NULL)|\n",
      "+------------------+\n",
      "|             false|\n",
      "|              true|\n",
      "|             false|\n",
      "|             false|\n",
      "|             false|\n",
      "|             false|\n",
      "|             false|\n",
      "|             false|\n",
      "|             false|\n",
      "|             false|\n",
      "|             false|\n",
      "|             false|\n",
      "|             false|\n",
      "|             false|\n",
      "|             false|\n",
      "|             false|\n",
      "|             false|\n",
      "|             false|\n",
      "|             false|\n",
      "|             false|\n",
      "+------------------+\n",
      "only showing top 20 rows\n",
      "\n"
     ]
    }
   ],
   "source": [
    "jewel.select(jewel['Brand ID'].isNull()).show()"
   ]
  },
  {
   "cell_type": "code",
   "execution_count": 18,
   "id": "7327ae33-3ad8-4adc-a94a-bbd621d84def",
   "metadata": {},
   "outputs": [
    {
     "name": "stdout",
     "output_type": "stream",
     "text": [
      "+------------------------+\n",
      "|(Order datetime IS NULL)|\n",
      "+------------------------+\n",
      "|                   false|\n",
      "|                   false|\n",
      "|                   false|\n",
      "|                   false|\n",
      "|                   false|\n",
      "|                   false|\n",
      "|                   false|\n",
      "|                   false|\n",
      "|                   false|\n",
      "|                   false|\n",
      "|                   false|\n",
      "|                   false|\n",
      "|                   false|\n",
      "|                   false|\n",
      "|                   false|\n",
      "|                   false|\n",
      "|                   false|\n",
      "|                   false|\n",
      "|                   false|\n",
      "|                   false|\n",
      "+------------------------+\n",
      "only showing top 20 rows\n",
      "\n"
     ]
    }
   ],
   "source": [
    "jewel.select(jewel['Order datetime'].isNull()).show()"
   ]
  },
  {
   "cell_type": "code",
   "execution_count": 19,
   "id": "5c5ec825-7e6c-4520-92b7-5f43dcaf5ab3",
   "metadata": {},
   "outputs": [
    {
     "name": "stdout",
     "output_type": "stream",
     "text": [
      "+------------------+\n",
      "|(Order ID IS NULL)|\n",
      "+------------------+\n",
      "|             false|\n",
      "|             false|\n",
      "|             false|\n",
      "|             false|\n",
      "|             false|\n",
      "|             false|\n",
      "|             false|\n",
      "|             false|\n",
      "|             false|\n",
      "|             false|\n",
      "|             false|\n",
      "|             false|\n",
      "|             false|\n",
      "|             false|\n",
      "|             false|\n",
      "|             false|\n",
      "|             false|\n",
      "|             false|\n",
      "|             false|\n",
      "|             false|\n",
      "+------------------+\n",
      "only showing top 20 rows\n",
      "\n"
     ]
    }
   ],
   "source": [
    "jewel.select(jewel['Order ID'].isNull()).show()"
   ]
  },
  {
   "cell_type": "code",
   "execution_count": 20,
   "id": "f5d05331-d27f-4f88-8084-cebd65e071b9",
   "metadata": {},
   "outputs": [
    {
     "name": "stdout",
     "output_type": "stream",
     "text": [
      "+--------------+\n",
      "|(Gems IS NULL)|\n",
      "+--------------+\n",
      "|         false|\n",
      "|          true|\n",
      "|         false|\n",
      "|         false|\n",
      "|         false|\n",
      "|          true|\n",
      "|         false|\n",
      "|         false|\n",
      "|         false|\n",
      "|         false|\n",
      "|         false|\n",
      "|         false|\n",
      "|          true|\n",
      "|         false|\n",
      "|         false|\n",
      "|         false|\n",
      "|         false|\n",
      "|         false|\n",
      "|         false|\n",
      "|         false|\n",
      "+--------------+\n",
      "only showing top 20 rows\n",
      "\n"
     ]
    }
   ],
   "source": [
    "jewel.select(jewel['Gems'].isNull()).show()"
   ]
  },
  {
   "cell_type": "code",
   "execution_count": 21,
   "id": "c218de0c-a73c-4109-ba0e-6043eb99b65d",
   "metadata": {},
   "outputs": [
    {
     "name": "stdout",
     "output_type": "stream",
     "text": [
      "+--------------------+-----------+--------------------+----------------------------+-----------+----------------+--------+------------+-----------+--------------+--------------+-------------+--------+\n",
      "|      Order datetime|   Order ID|Purchased product ID|Quantity of SKU in the order|Category ID|  Category alias|Brand ID|Price in USD|    User ID|Product gender|Product colour|Material used|    Gems|\n",
      "+--------------------+-----------+--------------------+----------------------------+-----------+----------------+--------+------------+-----------+--------------+--------------+-------------+--------+\n",
      "|2018-12-01 11:40:...|1.92472E+18|          1.8422E+18|                           1|1.80683E+18| jewelry.earring|       0|      561.51|1.51592E+18|          null|           red|         gold| diamond|\n",
      "|2018-12-02 13:53:...|1.92551E+18|         1.84221E+18|                           1|1.80683E+18| jewelry.pendant|       1|       54.66|1.51592E+18|             f|         white|         gold|sapphire|\n",
      "|2018-12-02 17:44:...|1.92563E+18|         1.83557E+18|                           1|1.80683E+18| jewelry.pendant|       0|        88.9|1.51592E+18|             f|           red|         gold| diamond|\n",
      "|2018-12-02 21:30:...|1.92574E+18|         1.87394E+18|                           1|1.80683E+18|jewelry.necklace|       0|      417.67|1.51592E+18|          null|           red|         gold|amethyst|\n",
      "|2018-12-02 22:09:...|1.92576E+18|         1.60002E+18|                           1|1.80683E+18| jewelry.earring|       0|      150.55|1.51592E+18|          null|           red|         gold| diamond|\n",
      "|2018-12-02 22:16:...|1.92576E+18|         1.83557E+18|                           1|1.80683E+18| jewelry.earring|       0|       83.42|1.51592E+18|          null|         white|         gold|  fianit|\n",
      "|2018-12-03 07:03:...|1.92603E+18|          1.8118E+18|                           1|1.80683E+18| jewelry.pendant|       2|       60.27|1.51592E+18|             f|           red|         gold|   pearl|\n",
      "|2018-12-03 09:48:...|1.92611E+18|         1.83628E+18|                           1|1.80683E+18| jewelry.earring|       1|       217.4|1.51592E+18|          null|           red|         gold| diamond|\n",
      "|2018-12-03 09:48:...|1.92611E+18|         1.87764E+18|                           1|1.80683E+18|    jewelry.ring|       1|      180.71|1.51592E+18|          null|         white|         gold| diamond|\n",
      "|2018-12-03 09:48:...|1.92611E+18|         1.87834E+18|                           1|1.80683E+18|  jewelry.brooch|       1|       232.1|1.51592E+18|          null|           red|         gold|  fianit|\n",
      "|2018-12-03 18:43:...|1.92638E+18|         1.80746E+18|                           1|1.80683E+18| jewelry.earring|       0|       84.45|1.51592E+18|          null|         white|         gold|  fianit|\n",
      "|2018-12-04 06:04:...|1.92672E+18|         1.83975E+18|                           1|1.80683E+18|    jewelry.ring|       0|      254.45|1.51592E+18|          null|           red|         gold|amethyst|\n",
      "|2018-12-04 08:06:...|1.92679E+18|         1.83809E+18|                           1|1.80683E+18| jewelry.earring|       0|      251.15|1.51592E+18|          null|           red|         gold|  quartz|\n",
      "|2018-12-04 12:40:...|1.92692E+18|          1.8744E+18|                           1|1.80683E+18|    jewelry.ring|       1|      154.88|1.51592E+18|          null|         white|         gold| diamond|\n",
      "|2018-12-04 12:40:...|1.92692E+18|          1.8744E+18|                           1|1.80683E+18|    jewelry.ring|       1|      154.88|1.51592E+18|          null|         white|         gold| diamond|\n",
      "|2018-12-04 17:18:...|1.92706E+18|         1.83683E+18|                           1|1.80683E+18| jewelry.earring|       0|      2171.1|1.51592E+18|          null|        yellow|         gold|   topaz|\n",
      "|2018-12-04 19:55:...|1.92714E+18|         1.80757E+18|                           1|1.80683E+18| jewelry.earring|       1|       102.6|1.51592E+18|             f|        yellow|         gold|  garnet|\n",
      "|2018-12-04 20:10:...|1.92715E+18|         1.80683E+18|                           1|1.80683E+18| jewelry.pendant|       1|       61.51|1.51592E+18|             f|        yellow|         gold|  garnet|\n",
      "|2018-12-04 20:12:...|1.92715E+18|          1.3136E+18|                           1|1.80683E+18|jewelry.bracelet|       0|      335.48|1.51592E+18|          null|        yellow|         gold|  garnet|\n",
      "|2018-12-05 07:34:...|1.92749E+18|         1.80725E+18|                           1|1.80683E+18| jewelry.earring|       2|       616.3|1.51592E+18|             f|           red|         gold| diamond|\n",
      "+--------------------+-----------+--------------------+----------------------------+-----------+----------------+--------+------------+-----------+--------------+--------------+-------------+--------+\n",
      "only showing top 20 rows\n",
      "\n"
     ]
    }
   ],
   "source": [
    "nonullGems = jewel.na.drop(subset = \"Gems\").show()"
   ]
  },
  {
   "cell_type": "code",
   "execution_count": 22,
   "id": "f9abe3bb-64d3-444c-a541-c931da606e8c",
   "metadata": {},
   "outputs": [],
   "source": [
    "nonullJewel = jewel.na.drop()"
   ]
  },
  {
   "cell_type": "code",
   "execution_count": 23,
   "id": "48b468f8-0810-45ea-9661-bc9dd7156f0d",
   "metadata": {},
   "outputs": [
    {
     "name": "stdout",
     "output_type": "stream",
     "text": [
      "+--------------------+-----------+--------------------+----------------------------+-----------+----------------+--------+------------+-----------+--------------+--------------+-------------+--------+\n",
      "|      Order datetime|   Order ID|Purchased product ID|Quantity of SKU in the order|Category ID|  Category alias|Brand ID|Price in USD|    User ID|Product gender|Product colour|Material used|    Gems|\n",
      "+--------------------+-----------+--------------------+----------------------------+-----------+----------------+--------+------------+-----------+--------------+--------------+-------------+--------+\n",
      "|2018-12-02 13:53:...|1.92551E+18|         1.84221E+18|                           1|1.80683E+18| jewelry.pendant|       1|       54.66|1.51592E+18|             f|         white|         gold|sapphire|\n",
      "|2018-12-02 17:44:...|1.92563E+18|         1.83557E+18|                           1|1.80683E+18| jewelry.pendant|       0|        88.9|1.51592E+18|             f|           red|         gold| diamond|\n",
      "|2018-12-03 07:03:...|1.92603E+18|          1.8118E+18|                           1|1.80683E+18| jewelry.pendant|       2|       60.27|1.51592E+18|             f|           red|         gold|   pearl|\n",
      "|2018-12-04 19:55:...|1.92714E+18|         1.80757E+18|                           1|1.80683E+18| jewelry.earring|       1|       102.6|1.51592E+18|             f|        yellow|         gold|  garnet|\n",
      "|2018-12-04 20:10:...|1.92715E+18|         1.80683E+18|                           1|1.80683E+18| jewelry.pendant|       1|       61.51|1.51592E+18|             f|        yellow|         gold|  garnet|\n",
      "|2018-12-05 07:34:...|1.92749E+18|         1.80725E+18|                           1|1.80683E+18| jewelry.earring|       2|       616.3|1.51592E+18|             f|           red|         gold| diamond|\n",
      "|2018-12-05 08:25:...|1.92752E+18|         1.31539E+18|                           1|1.80683E+18| jewelry.earring|       1|       67.41|1.48112E+18|             f|         white|         gold|  fianit|\n",
      "|2018-12-05 09:37:...|1.92756E+18|         1.83739E+18|                           1|1.80683E+18| jewelry.earring|       2|      225.89|1.51592E+18|             f|           red|         gold|  garnet|\n",
      "|2018-12-05 19:54:...|1.92787E+18|         1.80746E+18|                           1|1.80683E+18|jewelry.bracelet|       1|      130.71|1.51592E+18|             f|           red|         gold|   pearl|\n",
      "|2018-12-06 13:33:...| 1.9284E+18|         1.83557E+18|                           1|1.80683E+18|jewelry.bracelet|       1|      168.74|1.32453E+18|             f|           red|         gold|  fianit|\n",
      "|2018-12-06 16:29:...|1.92849E+18|         1.83817E+18|                           1|1.80683E+18| jewelry.earring|       1|     1246.44|1.51592E+18|             f|           red|         gold| diamond|\n",
      "|2018-12-08 12:00:...| 1.9298E+18|         1.83566E+18|                           1|1.80683E+18| jewelry.earring|       1|     1424.07|1.51592E+18|             f|           red|         gold| diamond|\n",
      "|2018-12-08 18:47:...|1.93001E+18|         1.85074E+18|                           1|1.80683E+18|    jewelry.ring|       1|      472.47|1.51592E+18|             f|           red|         gold| diamond|\n",
      "|2018-12-09 11:38:...|1.93052E+18|         1.91538E+18|                           1|1.80683E+18|    jewelry.ring|       1|      257.51|1.46011E+18|             f|           red|         gold| diamond|\n",
      "|2018-12-13 09:49:...|1.93336E+18|         1.91373E+18|                           1|1.80683E+18|    jewelry.ring|       1|       81.33|1.51592E+18|             f|           red|         gold|  fianit|\n",
      "|2018-12-14 08:12:...|1.93404E+18|         1.80683E+18|                           1|1.80683E+18|    jewelry.ring|       2|      174.21|1.51592E+18|             f|           red|         gold|    ruby|\n",
      "|2018-12-14 09:28:...|1.93408E+18|         1.83566E+18|                           1|1.80683E+18| jewelry.earring|       1|     1424.07|1.51592E+18|             f|           red|         gold| diamond|\n",
      "|2018-12-16 09:29:...|1.93552E+18|         1.83619E+18|                           1|1.80683E+18|    jewelry.ring|       1|       157.4|1.54124E+18|             f|           red|         gold|  garnet|\n",
      "|2018-12-16 12:54:...|1.93563E+18|         1.83654E+18|                           1|1.80683E+18| jewelry.pendant|       1|      232.74|1.51592E+18|             f|           red|         gold| diamond|\n",
      "|2018-12-16 12:54:...|1.93563E+18|         1.31722E+18|                           1|1.80683E+18| jewelry.earring|       1|      636.85|1.51592E+18|             f|           red|         gold| diamond|\n",
      "+--------------------+-----------+--------------------+----------------------------+-----------+----------------+--------+------------+-----------+--------------+--------------+-------------+--------+\n",
      "only showing top 20 rows\n",
      "\n"
     ]
    }
   ],
   "source": [
    "nonullJewel.show()"
   ]
  },
  {
   "cell_type": "code",
   "execution_count": 24,
   "id": "1c688ff7-2117-4f30-b7e3-add67ee44c2e",
   "metadata": {},
   "outputs": [],
   "source": [
    "cleanedData = nonullJewel.dropDuplicates()"
   ]
  },
  {
   "cell_type": "code",
   "execution_count": 25,
   "id": "e3ebcbdb-1019-4ca6-b1bf-ac09a9c5e92e",
   "metadata": {},
   "outputs": [
    {
     "name": "stderr",
     "output_type": "stream",
     "text": [
      "[Stage 17:>                                                         (0 + 3) / 3]\r"
     ]
    },
    {
     "name": "stdout",
     "output_type": "stream",
     "text": [
      "+--------------------+-----------+--------------------+----------------------------+-----------+----------------+--------+------------+-----------+--------------+--------------+-------------+-------+\n",
      "|      Order datetime|   Order ID|Purchased product ID|Quantity of SKU in the order|Category ID|  Category alias|Brand ID|Price in USD|    User ID|Product gender|Product colour|Material used|   Gems|\n",
      "+--------------------+-----------+--------------------+----------------------------+-----------+----------------+--------+------------+-----------+--------------+--------------+-------------+-------+\n",
      "|2019-01-30 08:48:...|1.96812E+18|         1.95666E+18|                           1|1.80683E+18|    jewelry.ring|       1|       42.44|1.51592E+18|             f|           red|         gold| fianit|\n",
      "|2019-02-04 23:19:...|1.97218E+18|         1.95666E+18|                           1|1.80683E+18|    jewelry.ring|       1|       102.7|1.51592E+18|             f|         white|         gold|diamond|\n",
      "|2019-02-13 10:14:...|1.97831E+18|         1.95666E+18|                           1|1.80683E+18|    jewelry.ring|       2|      507.95|1.55061E+18|             f|           red|         gold|diamond|\n",
      "|2019-03-03 18:45:...|1.99161E+18|         1.95666E+18|                           1|1.80683E+18| jewelry.pendant|       0|      136.85|1.51592E+18|             f|           red|         gold|diamond|\n",
      "|2019-03-26 10:27:...|2.00803E+18|         1.51597E+18|                           1|1.80683E+18| jewelry.pendant|       2|      123.15|1.32516E+18|             f|           red|         gold| fianit|\n",
      "|2019-04-03 13:21:...|2.01392E+18|         1.95666E+18|                           1|1.80683E+18| jewelry.earring|       1|     1123.25|1.51592E+18|             f|         white|         gold|diamond|\n",
      "|2019-04-26 04:15:...|2.03031E+18|         1.95666E+18|                           1|1.80683E+18|    jewelry.ring|       1|      301.23|1.51592E+18|             f|           red|         gold|  pearl|\n",
      "|2019-08-11 06:04:...|2.10792E+18|         1.95666E+18|                           1|1.80683E+18|    jewelry.ring|       2|      369.73|1.51592E+18|             f|           red|         gold|diamond|\n",
      "|2019-08-19 19:28:...|2.11412E+18|         1.35429E+18|                           1|1.80683E+18| jewelry.earring|       1|      246.55|1.51592E+18|             f|           red|         gold| fianit|\n",
      "|2019-08-26 03:47:...|2.11872E+18|         1.95666E+18|                           1|1.80683E+18| jewelry.earring|       2|      198.49|1.51592E+18|             f|           red|         gold| garnet|\n",
      "|2019-09-10 09:50:...|2.12978E+18|         1.95666E+18|                           1|1.80683E+18|jewelry.bracelet|       2|      342.33|1.51592E+18|             f|           red|         gold|   ruby|\n",
      "|2019-09-20 19:32:...|2.13732E+18|         1.51597E+18|                           1|1.80683E+18| jewelry.earring|       1|      654.75|1.51592E+18|             f|           red|         gold|diamond|\n",
      "|2019-10-11 15:06:...| 2.1524E+18|         1.95666E+18|                           1|1.80683E+18|    jewelry.ring|       1|       116.3|1.51592E+18|             f|           red|         gold| fianit|\n",
      "|2019-10-11 19:02:...|2.15252E+18|         1.95666E+18|                           1|1.80683E+18| jewelry.pendant|       1|       157.4|1.51592E+18|             f|           red|         gold|diamond|\n",
      "|2019-10-13 20:00:...|  2.154E+18|         1.94869E+18|                           1|1.80683E+18|    jewelry.ring|       1|      383.42|1.51592E+18|             f|           red|         gold|emerald|\n",
      "|2019-10-29 11:28:...|2.16534E+18|         1.51597E+18|                           1|1.80683E+18| jewelry.pendant|       1|       60.78|1.51592E+18|             f|           red|         gold| fianit|\n",
      "|2019-11-10 12:57:...|2.17408E+18|         1.95666E+18|                           1|1.80683E+18|    jewelry.ring|       0|     1020.41|1.51592E+18|             f|         white|         gold|diamond|\n",
      "|2019-11-13 14:05:...|2.17629E+18|         1.95666E+18|                           1|1.80683E+18| jewelry.earring|       1|      124.62|1.51592E+18|             f|           red|         gold|  topaz|\n",
      "|2019-11-14 09:46:...|2.17688E+18|         1.95666E+18|                           1|1.80683E+18| jewelry.earring|       1|     2136.85|1.51592E+18|             f|           red|         gold|diamond|\n",
      "|2019-11-17 10:33:...|2.17908E+18|         1.92929E+18|                           1|1.80683E+18| jewelry.pendant|       1|      369.73|1.51592E+18|             f|           red|         gold|diamond|\n",
      "+--------------------+-----------+--------------------+----------------------------+-----------+----------------+--------+------------+-----------+--------------+--------------+-------------+-------+\n",
      "only showing top 20 rows\n",
      "\n"
     ]
    },
    {
     "name": "stderr",
     "output_type": "stream",
     "text": [
      "                                                                                \r"
     ]
    }
   ],
   "source": [
    "cleanedData.show()"
   ]
  },
  {
   "cell_type": "code",
   "execution_count": 26,
   "id": "fac5cd36-1127-46c4-b657-7fb46c210750",
   "metadata": {},
   "outputs": [
    {
     "name": "stdout",
     "output_type": "stream",
     "text": [
      "+--------------------+-----------+--------------------+----------------------------+-----------+----------------+--------+------------+-----------+--------------+--------------+-------------+-------+\n",
      "|      Order datetime|   Order ID|Purchased product ID|Quantity of SKU in the order|Category ID|  Category alias|Brand_id|Price in USD|    User ID|Product gender|Product colour|Material used|   Gems|\n",
      "+--------------------+-----------+--------------------+----------------------------+-----------+----------------+--------+------------+-----------+--------------+--------------+-------------+-------+\n",
      "|2019-01-30 08:48:...|1.96812E+18|         1.95666E+18|                           1|1.80683E+18|    jewelry.ring|       1|       42.44|1.51592E+18|             f|           red|         gold| fianit|\n",
      "|2019-02-04 23:19:...|1.97218E+18|         1.95666E+18|                           1|1.80683E+18|    jewelry.ring|       1|       102.7|1.51592E+18|             f|         white|         gold|diamond|\n",
      "|2019-02-13 10:14:...|1.97831E+18|         1.95666E+18|                           1|1.80683E+18|    jewelry.ring|       2|      507.95|1.55061E+18|             f|           red|         gold|diamond|\n",
      "|2019-03-03 18:45:...|1.99161E+18|         1.95666E+18|                           1|1.80683E+18| jewelry.pendant|       0|      136.85|1.51592E+18|             f|           red|         gold|diamond|\n",
      "|2019-03-26 10:27:...|2.00803E+18|         1.51597E+18|                           1|1.80683E+18| jewelry.pendant|       2|      123.15|1.32516E+18|             f|           red|         gold| fianit|\n",
      "|2019-04-03 13:21:...|2.01392E+18|         1.95666E+18|                           1|1.80683E+18| jewelry.earring|       1|     1123.25|1.51592E+18|             f|         white|         gold|diamond|\n",
      "|2019-04-26 04:15:...|2.03031E+18|         1.95666E+18|                           1|1.80683E+18|    jewelry.ring|       1|      301.23|1.51592E+18|             f|           red|         gold|  pearl|\n",
      "|2019-08-11 06:04:...|2.10792E+18|         1.95666E+18|                           1|1.80683E+18|    jewelry.ring|       2|      369.73|1.51592E+18|             f|           red|         gold|diamond|\n",
      "|2019-08-19 19:28:...|2.11412E+18|         1.35429E+18|                           1|1.80683E+18| jewelry.earring|       1|      246.55|1.51592E+18|             f|           red|         gold| fianit|\n",
      "|2019-08-26 03:47:...|2.11872E+18|         1.95666E+18|                           1|1.80683E+18| jewelry.earring|       2|      198.49|1.51592E+18|             f|           red|         gold| garnet|\n",
      "|2019-09-10 09:50:...|2.12978E+18|         1.95666E+18|                           1|1.80683E+18|jewelry.bracelet|       2|      342.33|1.51592E+18|             f|           red|         gold|   ruby|\n",
      "|2019-09-20 19:32:...|2.13732E+18|         1.51597E+18|                           1|1.80683E+18| jewelry.earring|       1|      654.75|1.51592E+18|             f|           red|         gold|diamond|\n",
      "|2019-10-11 15:06:...| 2.1524E+18|         1.95666E+18|                           1|1.80683E+18|    jewelry.ring|       1|       116.3|1.51592E+18|             f|           red|         gold| fianit|\n",
      "|2019-10-11 19:02:...|2.15252E+18|         1.95666E+18|                           1|1.80683E+18| jewelry.pendant|       1|       157.4|1.51592E+18|             f|           red|         gold|diamond|\n",
      "|2019-10-13 20:00:...|  2.154E+18|         1.94869E+18|                           1|1.80683E+18|    jewelry.ring|       1|      383.42|1.51592E+18|             f|           red|         gold|emerald|\n",
      "|2019-10-29 11:28:...|2.16534E+18|         1.51597E+18|                           1|1.80683E+18| jewelry.pendant|       1|       60.78|1.51592E+18|             f|           red|         gold| fianit|\n",
      "|2019-11-10 12:57:...|2.17408E+18|         1.95666E+18|                           1|1.80683E+18|    jewelry.ring|       0|     1020.41|1.51592E+18|             f|         white|         gold|diamond|\n",
      "|2019-11-13 14:05:...|2.17629E+18|         1.95666E+18|                           1|1.80683E+18| jewelry.earring|       1|      124.62|1.51592E+18|             f|           red|         gold|  topaz|\n",
      "|2019-11-14 09:46:...|2.17688E+18|         1.95666E+18|                           1|1.80683E+18| jewelry.earring|       1|     2136.85|1.51592E+18|             f|           red|         gold|diamond|\n",
      "|2019-11-17 10:33:...|2.17908E+18|         1.92929E+18|                           1|1.80683E+18| jewelry.pendant|       1|      369.73|1.51592E+18|             f|           red|         gold|diamond|\n",
      "+--------------------+-----------+--------------------+----------------------------+-----------+----------------+--------+------------+-----------+--------------+--------------+-------------+-------+\n",
      "only showing top 20 rows\n",
      "\n"
     ]
    }
   ],
   "source": [
    "cleanedData.withColumnRenamed(\"Brand ID\", \"Brand_id\").show()"
   ]
  },
  {
   "cell_type": "code",
   "execution_count": 27,
   "id": "2311fb72-d2b0-4395-b361-c14fe987c28e",
   "metadata": {},
   "outputs": [
    {
     "name": "stdout",
     "output_type": "stream",
     "text": [
      "+--------------------+-----------+--------------------+--------+-----------+----------------+--------+------------+-----------+--------------+--------------+-------------+-------+\n",
      "|      Order datetime|   Order ID|Purchased product ID|Quantity|Category ID|  Category alias|Brand ID|Price in USD|    User ID|Product gender|Product colour|Material used|   Gems|\n",
      "+--------------------+-----------+--------------------+--------+-----------+----------------+--------+------------+-----------+--------------+--------------+-------------+-------+\n",
      "|2019-01-30 08:48:...|1.96812E+18|         1.95666E+18|       1|1.80683E+18|    jewelry.ring|       1|       42.44|1.51592E+18|             f|           red|         gold| fianit|\n",
      "|2019-02-04 23:19:...|1.97218E+18|         1.95666E+18|       1|1.80683E+18|    jewelry.ring|       1|       102.7|1.51592E+18|             f|         white|         gold|diamond|\n",
      "|2019-02-13 10:14:...|1.97831E+18|         1.95666E+18|       1|1.80683E+18|    jewelry.ring|       2|      507.95|1.55061E+18|             f|           red|         gold|diamond|\n",
      "|2019-03-03 18:45:...|1.99161E+18|         1.95666E+18|       1|1.80683E+18| jewelry.pendant|       0|      136.85|1.51592E+18|             f|           red|         gold|diamond|\n",
      "|2019-03-26 10:27:...|2.00803E+18|         1.51597E+18|       1|1.80683E+18| jewelry.pendant|       2|      123.15|1.32516E+18|             f|           red|         gold| fianit|\n",
      "|2019-04-03 13:21:...|2.01392E+18|         1.95666E+18|       1|1.80683E+18| jewelry.earring|       1|     1123.25|1.51592E+18|             f|         white|         gold|diamond|\n",
      "|2019-04-26 04:15:...|2.03031E+18|         1.95666E+18|       1|1.80683E+18|    jewelry.ring|       1|      301.23|1.51592E+18|             f|           red|         gold|  pearl|\n",
      "|2019-08-11 06:04:...|2.10792E+18|         1.95666E+18|       1|1.80683E+18|    jewelry.ring|       2|      369.73|1.51592E+18|             f|           red|         gold|diamond|\n",
      "|2019-08-19 19:28:...|2.11412E+18|         1.35429E+18|       1|1.80683E+18| jewelry.earring|       1|      246.55|1.51592E+18|             f|           red|         gold| fianit|\n",
      "|2019-08-26 03:47:...|2.11872E+18|         1.95666E+18|       1|1.80683E+18| jewelry.earring|       2|      198.49|1.51592E+18|             f|           red|         gold| garnet|\n",
      "|2019-09-10 09:50:...|2.12978E+18|         1.95666E+18|       1|1.80683E+18|jewelry.bracelet|       2|      342.33|1.51592E+18|             f|           red|         gold|   ruby|\n",
      "|2019-09-20 19:32:...|2.13732E+18|         1.51597E+18|       1|1.80683E+18| jewelry.earring|       1|      654.75|1.51592E+18|             f|           red|         gold|diamond|\n",
      "|2019-10-11 15:06:...| 2.1524E+18|         1.95666E+18|       1|1.80683E+18|    jewelry.ring|       1|       116.3|1.51592E+18|             f|           red|         gold| fianit|\n",
      "|2019-10-11 19:02:...|2.15252E+18|         1.95666E+18|       1|1.80683E+18| jewelry.pendant|       1|       157.4|1.51592E+18|             f|           red|         gold|diamond|\n",
      "|2019-10-13 20:00:...|  2.154E+18|         1.94869E+18|       1|1.80683E+18|    jewelry.ring|       1|      383.42|1.51592E+18|             f|           red|         gold|emerald|\n",
      "|2019-10-29 11:28:...|2.16534E+18|         1.51597E+18|       1|1.80683E+18| jewelry.pendant|       1|       60.78|1.51592E+18|             f|           red|         gold| fianit|\n",
      "|2019-11-10 12:57:...|2.17408E+18|         1.95666E+18|       1|1.80683E+18|    jewelry.ring|       0|     1020.41|1.51592E+18|             f|         white|         gold|diamond|\n",
      "|2019-11-13 14:05:...|2.17629E+18|         1.95666E+18|       1|1.80683E+18| jewelry.earring|       1|      124.62|1.51592E+18|             f|           red|         gold|  topaz|\n",
      "|2019-11-14 09:46:...|2.17688E+18|         1.95666E+18|       1|1.80683E+18| jewelry.earring|       1|     2136.85|1.51592E+18|             f|           red|         gold|diamond|\n",
      "|2019-11-17 10:33:...|2.17908E+18|         1.92929E+18|       1|1.80683E+18| jewelry.pendant|       1|      369.73|1.51592E+18|             f|           red|         gold|diamond|\n",
      "+--------------------+-----------+--------------------+--------+-----------+----------------+--------+------------+-----------+--------------+--------------+-------------+-------+\n",
      "only showing top 20 rows\n",
      "\n"
     ]
    }
   ],
   "source": [
    "cleanedData.withColumnRenamed(\"Quantity of SKU in the order\", \"Quantity\").show()"
   ]
  },
  {
   "cell_type": "code",
   "execution_count": 28,
   "id": "7e35a2f5-fa03-49ed-be78-214fea0d1457",
   "metadata": {},
   "outputs": [
    {
     "name": "stdout",
     "output_type": "stream",
     "text": [
      "+--------------------+-----------+--------------------+----------------------------+-----------+----------------+--------+------------+-----------+--------------+--------------+-------------+-------+\n",
      "|      order_datetime|   Order ID|Purchased product ID|Quantity of SKU in the order|Category ID|  Category alias|Brand ID|Price in USD|    User ID|Product gender|Product colour|Material used|   Gems|\n",
      "+--------------------+-----------+--------------------+----------------------------+-----------+----------------+--------+------------+-----------+--------------+--------------+-------------+-------+\n",
      "|2019-01-30 08:48:...|1.96812E+18|         1.95666E+18|                           1|1.80683E+18|    jewelry.ring|       1|       42.44|1.51592E+18|             f|           red|         gold| fianit|\n",
      "|2019-02-04 23:19:...|1.97218E+18|         1.95666E+18|                           1|1.80683E+18|    jewelry.ring|       1|       102.7|1.51592E+18|             f|         white|         gold|diamond|\n",
      "|2019-02-13 10:14:...|1.97831E+18|         1.95666E+18|                           1|1.80683E+18|    jewelry.ring|       2|      507.95|1.55061E+18|             f|           red|         gold|diamond|\n",
      "|2019-03-03 18:45:...|1.99161E+18|         1.95666E+18|                           1|1.80683E+18| jewelry.pendant|       0|      136.85|1.51592E+18|             f|           red|         gold|diamond|\n",
      "|2019-03-26 10:27:...|2.00803E+18|         1.51597E+18|                           1|1.80683E+18| jewelry.pendant|       2|      123.15|1.32516E+18|             f|           red|         gold| fianit|\n",
      "|2019-04-03 13:21:...|2.01392E+18|         1.95666E+18|                           1|1.80683E+18| jewelry.earring|       1|     1123.25|1.51592E+18|             f|         white|         gold|diamond|\n",
      "|2019-04-26 04:15:...|2.03031E+18|         1.95666E+18|                           1|1.80683E+18|    jewelry.ring|       1|      301.23|1.51592E+18|             f|           red|         gold|  pearl|\n",
      "|2019-08-11 06:04:...|2.10792E+18|         1.95666E+18|                           1|1.80683E+18|    jewelry.ring|       2|      369.73|1.51592E+18|             f|           red|         gold|diamond|\n",
      "|2019-08-19 19:28:...|2.11412E+18|         1.35429E+18|                           1|1.80683E+18| jewelry.earring|       1|      246.55|1.51592E+18|             f|           red|         gold| fianit|\n",
      "|2019-08-26 03:47:...|2.11872E+18|         1.95666E+18|                           1|1.80683E+18| jewelry.earring|       2|      198.49|1.51592E+18|             f|           red|         gold| garnet|\n",
      "|2019-09-10 09:50:...|2.12978E+18|         1.95666E+18|                           1|1.80683E+18|jewelry.bracelet|       2|      342.33|1.51592E+18|             f|           red|         gold|   ruby|\n",
      "|2019-09-20 19:32:...|2.13732E+18|         1.51597E+18|                           1|1.80683E+18| jewelry.earring|       1|      654.75|1.51592E+18|             f|           red|         gold|diamond|\n",
      "|2019-10-11 15:06:...| 2.1524E+18|         1.95666E+18|                           1|1.80683E+18|    jewelry.ring|       1|       116.3|1.51592E+18|             f|           red|         gold| fianit|\n",
      "|2019-10-11 19:02:...|2.15252E+18|         1.95666E+18|                           1|1.80683E+18| jewelry.pendant|       1|       157.4|1.51592E+18|             f|           red|         gold|diamond|\n",
      "|2019-10-13 20:00:...|  2.154E+18|         1.94869E+18|                           1|1.80683E+18|    jewelry.ring|       1|      383.42|1.51592E+18|             f|           red|         gold|emerald|\n",
      "|2019-10-29 11:28:...|2.16534E+18|         1.51597E+18|                           1|1.80683E+18| jewelry.pendant|       1|       60.78|1.51592E+18|             f|           red|         gold| fianit|\n",
      "|2019-11-10 12:57:...|2.17408E+18|         1.95666E+18|                           1|1.80683E+18|    jewelry.ring|       0|     1020.41|1.51592E+18|             f|         white|         gold|diamond|\n",
      "|2019-11-13 14:05:...|2.17629E+18|         1.95666E+18|                           1|1.80683E+18| jewelry.earring|       1|      124.62|1.51592E+18|             f|           red|         gold|  topaz|\n",
      "|2019-11-14 09:46:...|2.17688E+18|         1.95666E+18|                           1|1.80683E+18| jewelry.earring|       1|     2136.85|1.51592E+18|             f|           red|         gold|diamond|\n",
      "|2019-11-17 10:33:...|2.17908E+18|         1.92929E+18|                           1|1.80683E+18| jewelry.pendant|       1|      369.73|1.51592E+18|             f|           red|         gold|diamond|\n",
      "+--------------------+-----------+--------------------+----------------------------+-----------+----------------+--------+------------+-----------+--------------+--------------+-------------+-------+\n",
      "only showing top 20 rows\n",
      "\n"
     ]
    }
   ],
   "source": [
    "cleanedData.withColumnRenamed(\"Order datetime\", \"order_datetime\").show()"
   ]
  },
  {
   "cell_type": "code",
   "execution_count": 29,
   "id": "548f187f-efde-4e44-b2dc-4d9fb7100ea1",
   "metadata": {},
   "outputs": [
    {
     "name": "stdout",
     "output_type": "stream",
     "text": [
      "+--------------------+-----------+--------------------+----------------------------+-----------+----------------+--------+------------+-----------+--------------+--------------+-------------+-------+\n",
      "|      Order datetime|   order_id|Purchased product ID|Quantity of SKU in the order|Category ID|  Category alias|Brand ID|Price in USD|    User ID|Product gender|Product colour|Material used|   Gems|\n",
      "+--------------------+-----------+--------------------+----------------------------+-----------+----------------+--------+------------+-----------+--------------+--------------+-------------+-------+\n",
      "|2019-01-30 08:48:...|1.96812E+18|         1.95666E+18|                           1|1.80683E+18|    jewelry.ring|       1|       42.44|1.51592E+18|             f|           red|         gold| fianit|\n",
      "|2019-02-04 23:19:...|1.97218E+18|         1.95666E+18|                           1|1.80683E+18|    jewelry.ring|       1|       102.7|1.51592E+18|             f|         white|         gold|diamond|\n",
      "|2019-02-13 10:14:...|1.97831E+18|         1.95666E+18|                           1|1.80683E+18|    jewelry.ring|       2|      507.95|1.55061E+18|             f|           red|         gold|diamond|\n",
      "|2019-03-03 18:45:...|1.99161E+18|         1.95666E+18|                           1|1.80683E+18| jewelry.pendant|       0|      136.85|1.51592E+18|             f|           red|         gold|diamond|\n",
      "|2019-03-26 10:27:...|2.00803E+18|         1.51597E+18|                           1|1.80683E+18| jewelry.pendant|       2|      123.15|1.32516E+18|             f|           red|         gold| fianit|\n",
      "|2019-04-03 13:21:...|2.01392E+18|         1.95666E+18|                           1|1.80683E+18| jewelry.earring|       1|     1123.25|1.51592E+18|             f|         white|         gold|diamond|\n",
      "|2019-04-26 04:15:...|2.03031E+18|         1.95666E+18|                           1|1.80683E+18|    jewelry.ring|       1|      301.23|1.51592E+18|             f|           red|         gold|  pearl|\n",
      "|2019-08-11 06:04:...|2.10792E+18|         1.95666E+18|                           1|1.80683E+18|    jewelry.ring|       2|      369.73|1.51592E+18|             f|           red|         gold|diamond|\n",
      "|2019-08-19 19:28:...|2.11412E+18|         1.35429E+18|                           1|1.80683E+18| jewelry.earring|       1|      246.55|1.51592E+18|             f|           red|         gold| fianit|\n",
      "|2019-08-26 03:47:...|2.11872E+18|         1.95666E+18|                           1|1.80683E+18| jewelry.earring|       2|      198.49|1.51592E+18|             f|           red|         gold| garnet|\n",
      "|2019-09-10 09:50:...|2.12978E+18|         1.95666E+18|                           1|1.80683E+18|jewelry.bracelet|       2|      342.33|1.51592E+18|             f|           red|         gold|   ruby|\n",
      "|2019-09-20 19:32:...|2.13732E+18|         1.51597E+18|                           1|1.80683E+18| jewelry.earring|       1|      654.75|1.51592E+18|             f|           red|         gold|diamond|\n",
      "|2019-10-11 15:06:...| 2.1524E+18|         1.95666E+18|                           1|1.80683E+18|    jewelry.ring|       1|       116.3|1.51592E+18|             f|           red|         gold| fianit|\n",
      "|2019-10-11 19:02:...|2.15252E+18|         1.95666E+18|                           1|1.80683E+18| jewelry.pendant|       1|       157.4|1.51592E+18|             f|           red|         gold|diamond|\n",
      "|2019-10-13 20:00:...|  2.154E+18|         1.94869E+18|                           1|1.80683E+18|    jewelry.ring|       1|      383.42|1.51592E+18|             f|           red|         gold|emerald|\n",
      "|2019-10-29 11:28:...|2.16534E+18|         1.51597E+18|                           1|1.80683E+18| jewelry.pendant|       1|       60.78|1.51592E+18|             f|           red|         gold| fianit|\n",
      "|2019-11-10 12:57:...|2.17408E+18|         1.95666E+18|                           1|1.80683E+18|    jewelry.ring|       0|     1020.41|1.51592E+18|             f|         white|         gold|diamond|\n",
      "|2019-11-13 14:05:...|2.17629E+18|         1.95666E+18|                           1|1.80683E+18| jewelry.earring|       1|      124.62|1.51592E+18|             f|           red|         gold|  topaz|\n",
      "|2019-11-14 09:46:...|2.17688E+18|         1.95666E+18|                           1|1.80683E+18| jewelry.earring|       1|     2136.85|1.51592E+18|             f|           red|         gold|diamond|\n",
      "|2019-11-17 10:33:...|2.17908E+18|         1.92929E+18|                           1|1.80683E+18| jewelry.pendant|       1|      369.73|1.51592E+18|             f|           red|         gold|diamond|\n",
      "+--------------------+-----------+--------------------+----------------------------+-----------+----------------+--------+------------+-----------+--------------+--------------+-------------+-------+\n",
      "only showing top 20 rows\n",
      "\n"
     ]
    }
   ],
   "source": [
    "cleanedData.withColumnRenamed(\"Order ID\", \"order_id\").show()"
   ]
  },
  {
   "cell_type": "code",
   "execution_count": 30,
   "id": "30ab0203-91e2-415d-b3eb-02ddc728d270",
   "metadata": {},
   "outputs": [
    {
     "name": "stdout",
     "output_type": "stream",
     "text": [
      "+--------------------+-----------+-----------+----------------------------+-----------+----------------+--------+------------+-----------+--------------+--------------+-------------+-------+\n",
      "|      Order datetime|   Order ID| product_id|Quantity of SKU in the order|Category ID|  Category alias|Brand ID|Price in USD|    User ID|Product gender|Product colour|Material used|   Gems|\n",
      "+--------------------+-----------+-----------+----------------------------+-----------+----------------+--------+------------+-----------+--------------+--------------+-------------+-------+\n",
      "|2019-01-30 08:48:...|1.96812E+18|1.95666E+18|                           1|1.80683E+18|    jewelry.ring|       1|       42.44|1.51592E+18|             f|           red|         gold| fianit|\n",
      "|2019-02-04 23:19:...|1.97218E+18|1.95666E+18|                           1|1.80683E+18|    jewelry.ring|       1|       102.7|1.51592E+18|             f|         white|         gold|diamond|\n",
      "|2019-02-13 10:14:...|1.97831E+18|1.95666E+18|                           1|1.80683E+18|    jewelry.ring|       2|      507.95|1.55061E+18|             f|           red|         gold|diamond|\n",
      "|2019-03-03 18:45:...|1.99161E+18|1.95666E+18|                           1|1.80683E+18| jewelry.pendant|       0|      136.85|1.51592E+18|             f|           red|         gold|diamond|\n",
      "|2019-03-26 10:27:...|2.00803E+18|1.51597E+18|                           1|1.80683E+18| jewelry.pendant|       2|      123.15|1.32516E+18|             f|           red|         gold| fianit|\n",
      "|2019-04-03 13:21:...|2.01392E+18|1.95666E+18|                           1|1.80683E+18| jewelry.earring|       1|     1123.25|1.51592E+18|             f|         white|         gold|diamond|\n",
      "|2019-04-26 04:15:...|2.03031E+18|1.95666E+18|                           1|1.80683E+18|    jewelry.ring|       1|      301.23|1.51592E+18|             f|           red|         gold|  pearl|\n",
      "|2019-08-11 06:04:...|2.10792E+18|1.95666E+18|                           1|1.80683E+18|    jewelry.ring|       2|      369.73|1.51592E+18|             f|           red|         gold|diamond|\n",
      "|2019-08-19 19:28:...|2.11412E+18|1.35429E+18|                           1|1.80683E+18| jewelry.earring|       1|      246.55|1.51592E+18|             f|           red|         gold| fianit|\n",
      "|2019-08-26 03:47:...|2.11872E+18|1.95666E+18|                           1|1.80683E+18| jewelry.earring|       2|      198.49|1.51592E+18|             f|           red|         gold| garnet|\n",
      "|2019-09-10 09:50:...|2.12978E+18|1.95666E+18|                           1|1.80683E+18|jewelry.bracelet|       2|      342.33|1.51592E+18|             f|           red|         gold|   ruby|\n",
      "|2019-09-20 19:32:...|2.13732E+18|1.51597E+18|                           1|1.80683E+18| jewelry.earring|       1|      654.75|1.51592E+18|             f|           red|         gold|diamond|\n",
      "|2019-10-11 15:06:...| 2.1524E+18|1.95666E+18|                           1|1.80683E+18|    jewelry.ring|       1|       116.3|1.51592E+18|             f|           red|         gold| fianit|\n",
      "|2019-10-11 19:02:...|2.15252E+18|1.95666E+18|                           1|1.80683E+18| jewelry.pendant|       1|       157.4|1.51592E+18|             f|           red|         gold|diamond|\n",
      "|2019-10-13 20:00:...|  2.154E+18|1.94869E+18|                           1|1.80683E+18|    jewelry.ring|       1|      383.42|1.51592E+18|             f|           red|         gold|emerald|\n",
      "|2019-10-29 11:28:...|2.16534E+18|1.51597E+18|                           1|1.80683E+18| jewelry.pendant|       1|       60.78|1.51592E+18|             f|           red|         gold| fianit|\n",
      "|2019-11-10 12:57:...|2.17408E+18|1.95666E+18|                           1|1.80683E+18|    jewelry.ring|       0|     1020.41|1.51592E+18|             f|         white|         gold|diamond|\n",
      "|2019-11-13 14:05:...|2.17629E+18|1.95666E+18|                           1|1.80683E+18| jewelry.earring|       1|      124.62|1.51592E+18|             f|           red|         gold|  topaz|\n",
      "|2019-11-14 09:46:...|2.17688E+18|1.95666E+18|                           1|1.80683E+18| jewelry.earring|       1|     2136.85|1.51592E+18|             f|           red|         gold|diamond|\n",
      "|2019-11-17 10:33:...|2.17908E+18|1.92929E+18|                           1|1.80683E+18| jewelry.pendant|       1|      369.73|1.51592E+18|             f|           red|         gold|diamond|\n",
      "+--------------------+-----------+-----------+----------------------------+-----------+----------------+--------+------------+-----------+--------------+--------------+-------------+-------+\n",
      "only showing top 20 rows\n",
      "\n"
     ]
    }
   ],
   "source": [
    "cleanedData.withColumnRenamed(\"Purchased product ID\", \"product_id\").show()"
   ]
  },
  {
   "cell_type": "markdown",
   "id": "67cacc36-19a9-43a6-9ab6-d395c0ac59ff",
   "metadata": {},
   "source": [
    "## use of groupby function\n",
    "   - The total count of each Brand ID has been calculated and arranged in descending order"
   ]
  },
  {
   "cell_type": "code",
   "execution_count": 31,
   "id": "241323b2-8700-4d45-bf90-afca06140f75",
   "metadata": {},
   "outputs": [],
   "source": [
    "cd = cleanedData.groupby(\"Brand Id\").count().withColumnRenamed('count', 'total brands')"
   ]
  },
  {
   "cell_type": "code",
   "execution_count": 32,
   "id": "9cbb6264-8a9a-41f5-98f8-c6f9b4544367",
   "metadata": {},
   "outputs": [],
   "source": [
    " cdSort = cd.sort(F.desc(\"total brands\"))"
   ]
  },
  {
   "cell_type": "code",
   "execution_count": 33,
   "id": "3a270e54-49d7-4626-a8eb-5e0e3b3a316b",
   "metadata": {},
   "outputs": [
    {
     "name": "stdout",
     "output_type": "stream",
     "text": [
      "+--------+------------+\n",
      "|Brand Id|total brands|\n",
      "+--------+------------+\n",
      "|       1|       22247|\n",
      "|       2|        5832|\n",
      "|       0|        5459|\n",
      "|       6|           4|\n",
      "+--------+------------+\n",
      "\n"
     ]
    }
   ],
   "source": [
    "cdSort.show()"
   ]
  },
  {
   "cell_type": "markdown",
   "id": "ecac6aca-8294-4423-97dd-1a480baff752",
   "metadata": {},
   "source": [
    "Necessary typecasting have been done\n",
    "- Order Datetime column has been converted into date type and renamed as order_datetime.\n",
    "- Quantity of SKU in the order column has been converted into integer type and renamed as Quantity.\n",
    "- Price in USD column has been converted into float type and renamed as Price(usd).  "
   ]
  },
  {
   "cell_type": "code",
   "execution_count": 34,
   "id": "ae7d50ba-f87b-4d79-ae11-f47968590410",
   "metadata": {},
   "outputs": [],
   "source": [
    "cleanedData = cleanedData.withColumnRenamed(\"Order datetime\", \"order_datetime\")"
   ]
  },
  {
   "cell_type": "code",
   "execution_count": 35,
   "id": "a232622a-19e5-4069-aac7-4642c286fd1c",
   "metadata": {},
   "outputs": [],
   "source": [
    "cleanedData = cleanedData.withColumn(\"order_datetime\", F.col(\"order_datetime\").cast(DateType()))"
   ]
  },
  {
   "cell_type": "code",
   "execution_count": 36,
   "id": "20a1b90b-c619-4bb1-ba60-943aab45cd3d",
   "metadata": {},
   "outputs": [],
   "source": [
    "cleanedData = cleanedData.withColumnRenamed(\"Quantity of SKU in the order\", \"Quantity\")"
   ]
  },
  {
   "cell_type": "code",
   "execution_count": 37,
   "id": "5a2d88f0-c42b-41b8-9a86-12ce1b42e98b",
   "metadata": {},
   "outputs": [],
   "source": [
    "cleanedData = cleanedData.withColumn(\"Quantity\", F.col(\"Quantity\").cast(IntegerType()))"
   ]
  },
  {
   "cell_type": "code",
   "execution_count": 38,
   "id": "bff30cb1-e391-42e1-b271-7d46e92bbf3d",
   "metadata": {},
   "outputs": [],
   "source": [
    "cleanedData = cleanedData.withColumnRenamed(\"Price in USD\", \"Price(usd)\")"
   ]
  },
  {
   "cell_type": "code",
   "execution_count": 39,
   "id": "836a759d-fe9d-44f1-8d56-379379a78b0a",
   "metadata": {},
   "outputs": [],
   "source": [
    "cleanedData = cleanedData.withColumn(\"Price(usd)\", F.col(\"Price(usd)\").cast(FloatType()))"
   ]
  },
  {
   "cell_type": "code",
   "execution_count": 40,
   "id": "d279431f-c20d-49d0-a6f1-7d8a90d89b5e",
   "metadata": {},
   "outputs": [
    {
     "name": "stdout",
     "output_type": "stream",
     "text": [
      "root\n",
      " |-- order_datetime: date (nullable = true)\n",
      " |-- Order ID: string (nullable = true)\n",
      " |-- Purchased product ID: string (nullable = true)\n",
      " |-- Quantity: integer (nullable = true)\n",
      " |-- Category ID: string (nullable = true)\n",
      " |-- Category alias: string (nullable = true)\n",
      " |-- Brand ID: string (nullable = true)\n",
      " |-- Price(usd): float (nullable = true)\n",
      " |-- User ID: string (nullable = true)\n",
      " |-- Product gender: string (nullable = true)\n",
      " |-- Product colour: string (nullable = true)\n",
      " |-- Material used: string (nullable = true)\n",
      " |-- Gems: string (nullable = true)\n",
      "\n"
     ]
    }
   ],
   "source": [
    "cleanedData.printSchema()"
   ]
  },
  {
   "cell_type": "markdown",
   "id": "772bcd12-b280-4413-a1d4-f89ea9ea667c",
   "metadata": {},
   "source": [
    "Question 1: Top five Gems that have been used"
   ]
  },
  {
   "cell_type": "code",
   "execution_count": 41,
   "id": "12d90b94-7fe4-405e-a6a2-63e811d977a2",
   "metadata": {},
   "outputs": [],
   "source": [
    "topGems = cleanedData.groupby(\"Gems\").count().withColumnRenamed('count','total gems')"
   ]
  },
  {
   "cell_type": "code",
   "execution_count": 42,
   "id": "ae2bbe76-8b23-4603-9771-a873eb34e852",
   "metadata": {},
   "outputs": [],
   "source": [
    "topGems = topGems.sort(F.desc('total gems'))"
   ]
  },
  {
   "cell_type": "code",
   "execution_count": 43,
   "id": "f2630817-9cd9-41fc-9c35-c5fcf6fa579f",
   "metadata": {},
   "outputs": [
    {
     "name": "stdout",
     "output_type": "stream",
     "text": [
      "+-------+----------+\n",
      "|   Gems|total gems|\n",
      "+-------+----------+\n",
      "|diamond|     14977|\n",
      "| fianit|      7017|\n",
      "|  topaz|      3249|\n",
      "|  pearl|      2873|\n",
      "| garnet|      1839|\n",
      "+-------+----------+\n",
      "only showing top 5 rows\n",
      "\n"
     ]
    }
   ],
   "source": [
    "topGems.show(5)"
   ]
  },
  {
   "cell_type": "markdown",
   "id": "d43a18b9-b09a-4094-ad17-95a1034c0f04",
   "metadata": {},
   "source": [
    "Question 2: Top five gems that have been used and their corresponding category alias"
   ]
  },
  {
   "cell_type": "code",
   "execution_count": 44,
   "id": "f260b62d-d1f1-49db-9f91-fe575b12a13a",
   "metadata": {},
   "outputs": [],
   "source": [
    "topGemsCategory = cleanedData.groupby(\"Gems\", \"Category alias\").count().withColumnRenamed('count','total gems')"
   ]
  },
  {
   "cell_type": "code",
   "execution_count": 45,
   "id": "ce80896b-5290-4791-9e3b-e3161a3dbd92",
   "metadata": {},
   "outputs": [],
   "source": [
    "topGemsCategory = topGemsCategory.sort(F.desc('total gems'))"
   ]
  },
  {
   "cell_type": "code",
   "execution_count": 46,
   "id": "9357696f-dc0a-4827-8b3e-74cbf66ab5de",
   "metadata": {},
   "outputs": [
    {
     "name": "stdout",
     "output_type": "stream",
     "text": [
      "+-------+---------------+----------+\n",
      "|   Gems| Category alias|total gems|\n",
      "+-------+---------------+----------+\n",
      "|diamond|   jewelry.ring|      5987|\n",
      "|diamond|jewelry.earring|      5430|\n",
      "|diamond|jewelry.pendant|      2733|\n",
      "| fianit|   jewelry.ring|      2673|\n",
      "| fianit|jewelry.earring|      2668|\n",
      "+-------+---------------+----------+\n",
      "only showing top 5 rows\n",
      "\n"
     ]
    }
   ],
   "source": [
    "topGemsCategory.show(5)"
   ]
  },
  {
   "cell_type": "code",
   "execution_count": 47,
   "id": "fd67e1a6-641f-49c0-b1ca-b82f44bf4b00",
   "metadata": {},
   "outputs": [],
   "source": [
    "distinctCategory = cleanedData.select('Category alias').distinct().count()"
   ]
  },
  {
   "cell_type": "code",
   "execution_count": 48,
   "id": "ca07c8fb-28f3-45df-87b5-04ccfd2d459e",
   "metadata": {},
   "outputs": [
    {
     "data": {
      "text/plain": [
       "7"
      ]
     },
     "execution_count": 48,
     "metadata": {},
     "output_type": "execute_result"
    }
   ],
   "source": [
    "distinctCategory"
   ]
  },
  {
   "cell_type": "markdown",
   "id": "c72591f3-5aa2-4c4e-9aca-a036e256964c",
   "metadata": {},
   "source": [
    "Question 3: Most expensive category alias"
   ]
  },
  {
   "cell_type": "code",
   "execution_count": 49,
   "id": "92d590ab-8be7-46be-81a6-8335cea488d3",
   "metadata": {},
   "outputs": [],
   "source": [
    "max_price = cleanedData.agg(F.max('Price(usd)').alias('max_price')).collect()[0]['max_price']\n",
    "expensiveCategory = cleanedData.filter(cleanedData['Price(usd)'] == max_price).select('Category alias', 'Price(usd)')\n"
   ]
  },
  {
   "cell_type": "code",
   "execution_count": 50,
   "id": "034b35a1-3928-40cf-af69-d98d72adcb5b",
   "metadata": {},
   "outputs": [
    {
     "name": "stdout",
     "output_type": "stream",
     "text": [
      "+--------------+----------+\n",
      "|Category alias|Price(usd)|\n",
      "+--------------+----------+\n",
      "|  jewelry.ring|   7759.56|\n",
      "+--------------+----------+\n",
      "\n"
     ]
    }
   ],
   "source": [
    "expensiveCategory.show()"
   ]
  },
  {
   "cell_type": "markdown",
   "id": "c617f0d2-b7d4-4866-b941-8a7a3b108b85",
   "metadata": {},
   "source": [
    "Question 4: Category alias wise distribution of product colour"
   ]
  },
  {
   "cell_type": "code",
   "execution_count": 55,
   "id": "b8fc3800-526d-4171-85cc-8827260d5817",
   "metadata": {},
   "outputs": [],
   "source": [
    "categoryWiseColor = cleanedData.groupby(\"Category alias\", \"Product colour\").count().withColumnRenamed('count','Total items')"
   ]
  },
  {
   "cell_type": "code",
   "execution_count": 56,
   "id": "a670277a-5732-4bf4-99bf-6066e8dfe195",
   "metadata": {},
   "outputs": [
    {
     "name": "stderr",
     "output_type": "stream",
     "text": [
      "[Stage 71:===================>                                      (1 + 2) / 3]\r"
     ]
    },
    {
     "name": "stdout",
     "output_type": "stream",
     "text": [
      "+------------------+--------------+-----------+\n",
      "|    Category alias|Product colour|Total items|\n",
      "+------------------+--------------+-----------+\n",
      "|   jewelry.earring|        yellow|        243|\n",
      "|  jewelry.bracelet|        yellow|         82|\n",
      "|   jewelry.pendant|        yellow|         29|\n",
      "|  jewelry.necklace|        yellow|         20|\n",
      "|  jewelry.necklace|           red|        922|\n",
      "|   jewelry.earring|         white|       2242|\n",
      "|   jewelry.earring|           red|      10422|\n",
      "|    jewelry.brooch|        yellow|          1|\n",
      "|   jewelry.pendant|           red|       4662|\n",
      "|  jewelry.necklace|         white|        137|\n",
      "|electronics.clocks|           red|          9|\n",
      "|      jewelry.ring|           red|       9126|\n",
      "|    jewelry.brooch|           red|        364|\n",
      "|    jewelry.brooch|         white|          2|\n",
      "|      jewelry.ring|        yellow|        410|\n",
      "|      jewelry.ring|         white|       2516|\n",
      "|   jewelry.pendant|         white|       1079|\n",
      "|  jewelry.bracelet|         white|         86|\n",
      "|  jewelry.bracelet|           red|       1190|\n",
      "+------------------+--------------+-----------+\n",
      "\n"
     ]
    },
    {
     "name": "stderr",
     "output_type": "stream",
     "text": [
      "                                                                                \r"
     ]
    }
   ],
   "source": [
    "categoryWiseColor.show()"
   ]
  },
  {
   "cell_type": "markdown",
   "id": "25addc3c-08f6-4f4d-b5f2-206c3f244665",
   "metadata": {},
   "source": [
    "Question 5: Distinct values in column named Material used"
   ]
  },
  {
   "cell_type": "code",
   "execution_count": 62,
   "id": "c09a6518-5a57-4102-8f6a-0a94a2dd2112",
   "metadata": {},
   "outputs": [
    {
     "name": "stdout",
     "output_type": "stream",
     "text": [
      "+-------------+\n",
      "|Material used|\n",
      "+-------------+\n",
      "|         gold|\n",
      "+-------------+\n",
      "\n"
     ]
    }
   ],
   "source": [
    "cleanedData.select(\"Material used\").distinct().show()"
   ]
  },
  {
   "cell_type": "markdown",
   "id": "dcd3b42d-4881-48fc-995b-be8512d1e7ac",
   "metadata": {},
   "source": [
    "Question 6: Total Revenue per year"
   ]
  },
  {
   "cell_type": "code",
   "execution_count": 75,
   "id": "75ea04ac-c55f-469c-bb91-d045dc38a516",
   "metadata": {},
   "outputs": [],
   "source": [
    "from pyspark.sql.functions import year\n",
    "yearDate = cleanedData.withColumn(\"years\", year(cleanedData[\"order_datetime\"]))"
   ]
  },
  {
   "cell_type": "code",
   "execution_count": 77,
   "id": "5d41eaf0-331f-4d1b-bb65-67792f2ce672",
   "metadata": {},
   "outputs": [
    {
     "name": "stdout",
     "output_type": "stream",
     "text": [
      "+-----+\n",
      "|years|\n",
      "+-----+\n",
      "| 2019|\n",
      "| 2019|\n",
      "| 2019|\n",
      "| 2019|\n",
      "| 2019|\n",
      "| 2019|\n",
      "| 2019|\n",
      "| 2019|\n",
      "| 2019|\n",
      "| 2019|\n",
      "| 2019|\n",
      "| 2019|\n",
      "| 2019|\n",
      "| 2019|\n",
      "| 2019|\n",
      "| 2019|\n",
      "| 2019|\n",
      "| 2019|\n",
      "| 2019|\n",
      "| 2019|\n",
      "+-----+\n",
      "only showing top 20 rows\n",
      "\n"
     ]
    }
   ],
   "source": [
    "yearDate.select(\"years\").show()"
   ]
  },
  {
   "cell_type": "code",
   "execution_count": 89,
   "id": "6333d9fd-1e94-44ba-87c3-a607523a94ec",
   "metadata": {},
   "outputs": [],
   "source": [
    "yearRevenue = yearDate.groupby(\"years\").sum('Price(usd)')"
   ]
  },
  {
   "cell_type": "code",
   "execution_count": 90,
   "id": "23478c88-13e4-4afc-b424-0b2fbff7d6db",
   "metadata": {},
   "outputs": [
    {
     "name": "stdout",
     "output_type": "stream",
     "text": [
      "+-----+------------------+\n",
      "|years|   sum(Price(usd))|\n",
      "+-----+------------------+\n",
      "| 2018|11288.099815368652|\n",
      "| 2019| 1802520.121931076|\n",
      "| 2020|3801665.9542884827|\n",
      "| 2021| 8448722.087182999|\n",
      "+-----+------------------+\n",
      "\n"
     ]
    }
   ],
   "source": [
    "yearRevenue.show()"
   ]
  }
 ],
 "metadata": {
  "kernelspec": {
   "display_name": "Python 3 (ipykernel)",
   "language": "python",
   "name": "python3"
  },
  "language_info": {
   "codemirror_mode": {
    "name": "ipython",
    "version": 3
   },
   "file_extension": ".py",
   "mimetype": "text/x-python",
   "name": "python",
   "nbconvert_exporter": "python",
   "pygments_lexer": "ipython3",
   "version": "3.8.10"
  }
 },
 "nbformat": 4,
 "nbformat_minor": 5
}
