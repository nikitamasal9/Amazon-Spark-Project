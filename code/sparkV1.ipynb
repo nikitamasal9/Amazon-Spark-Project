{
 "cells": [
  {
   "cell_type": "markdown",
   "id": "411d9fde-98c1-44cb-b1ce-5baf5980bb7d",
   "metadata": {},
   "source": [
    "Importing necessary modules\n",
    "- Modules like pyspark, os have been imported"
   ]
  },
  {
   "cell_type": "code",
   "execution_count": 1,
   "id": "2ac1cb68-9dcc-4259-8019-5f303ec35f99",
   "metadata": {},
   "outputs": [],
   "source": [
    "import pyspark"
   ]
  },
  {
   "cell_type": "code",
   "execution_count": 2,
   "id": "d3fa1851-8b3f-4918-8799-8f1e8ddd7850",
   "metadata": {},
   "outputs": [],
   "source": [
    "import pyspark.sql.functions as F"
   ]
  },
  {
   "cell_type": "code",
   "execution_count": 3,
   "id": "94696a72-fa40-477d-bcea-c5bb9efbd7df",
   "metadata": {},
   "outputs": [],
   "source": [
    "import os"
   ]
  },
  {
   "cell_type": "code",
   "execution_count": 4,
   "id": "d51c36d4-b931-45a6-8bf7-ad3c64829629",
   "metadata": {},
   "outputs": [],
   "source": [
    "import pyspark"
   ]
  },
  {
   "cell_type": "markdown",
   "id": "bf2e6477-ac78-442c-ab82-88a418c8d9af",
   "metadata": {},
   "source": [
    "A spark session has been created"
   ]
  },
  {
   "cell_type": "code",
   "execution_count": 5,
   "id": "f4ce17af-9b68-46da-aff9-7455d428e0dd",
   "metadata": {},
   "outputs": [
    {
     "name": "stdout",
     "output_type": "stream",
     "text": [
      "24/03/05 13:16:33 WARN Utils: Your hostname, DESKTOP-77VPNBL resolves to a loopback address: 127.0.1.1; using 172.25.173.185 instead (on interface eth0)\n",
      "24/03/05 13:16:33 WARN Utils: Set SPARK_LOCAL_IP if you need to bind to another address\n"
     ]
    },
    {
     "name": "stderr",
     "output_type": "stream",
     "text": [
      "Setting default log level to \"WARN\".\n",
      "To adjust logging level use sc.setLogLevel(newLevel). For SparkR, use setLogLevel(newLevel).\n"
     ]
    },
    {
     "name": "stdout",
     "output_type": "stream",
     "text": [
      "24/03/05 13:16:35 WARN NativeCodeLoader: Unable to load native-hadoop library for your platform... using builtin-java classes where applicable\n"
     ]
    }
   ],
   "source": [
    "from pyspark.sql import SparkSession\n",
    "\n",
    "spark = SparkSession.builder.appName('Spark project')\\\n",
    "        .getOrCreate()"
   ]
  },
  {
   "cell_type": "markdown",
   "id": "7cc97f68-3442-4c42-ab61-2a7c87bdf8b9",
   "metadata": {},
   "source": [
    "Importing data for the project\n",
    "- A dataset, which has been named as jewelry.csv has been imported"
   ]
  },
  {
   "cell_type": "code",
   "execution_count": 6,
   "id": "a2d22a24-84f7-49bf-9330-16a9e6c8c925",
   "metadata": {},
   "outputs": [],
   "source": [
    "jewel = spark.read.csv(\"../dataset/jewelry.csv\", header=\"True\")"
   ]
  },
  {
   "cell_type": "code",
   "execution_count": 7,
   "id": "ee06a9da-befc-4912-a0b8-16c41946e10b",
   "metadata": {},
   "outputs": [
    {
     "name": "stdout",
     "output_type": "stream",
     "text": [
      "+--------------------+-----------+--------------------+----------------------------+-----------+----------------+--------+------------+-----------+--------------+--------------+-------------+--------+\n",
      "|      Order datetime|   Order ID|Purchased product ID|Quantity of SKU in the order|Category ID|  Category alias|Brand ID|Price in USD|    User ID|Product gender|Product colour|Material used|    Gems|\n",
      "+--------------------+-----------+--------------------+----------------------------+-----------+----------------+--------+------------+-----------+--------------+--------------+-------------+--------+\n",
      "|2018-12-01 11:40:...|1.92472E+18|          1.8422E+18|                           1|1.80683E+18| jewelry.earring|       0|      561.51|1.51592E+18|          null|           red|         gold| diamond|\n",
      "|2018-12-01 17:38:...| 1.9249E+18|         1.80683E+18|                           1|1.80683E+18|            null|    null|      212.14|1.51592E+18|          null|        yellow|         gold|    null|\n",
      "|2018-12-02 13:53:...|1.92551E+18|         1.84221E+18|                           1|1.80683E+18| jewelry.pendant|       1|       54.66|1.51592E+18|             f|         white|         gold|sapphire|\n",
      "|2018-12-02 17:44:...|1.92563E+18|         1.83557E+18|                           1|1.80683E+18| jewelry.pendant|       0|        88.9|1.51592E+18|             f|           red|         gold| diamond|\n",
      "|2018-12-02 21:30:...|1.92574E+18|         1.87394E+18|                           1|1.80683E+18|jewelry.necklace|       0|      417.67|1.51592E+18|          null|           red|         gold|amethyst|\n",
      "|2018-12-02 22:09:...|1.92576E+18|         1.83557E+18|                           1|1.80683E+18| jewelry.earring|       1|      102.27|1.51592E+18|          null|           red|         gold|    null|\n",
      "|2018-12-02 22:09:...|1.92576E+18|         1.60002E+18|                           1|1.80683E+18| jewelry.earring|       0|      150.55|1.51592E+18|          null|           red|         gold| diamond|\n",
      "|2018-12-02 22:16:...|1.92576E+18|         1.83557E+18|                           1|1.80683E+18| jewelry.earring|       0|       83.42|1.51592E+18|          null|         white|         gold|  fianit|\n",
      "|2018-12-03 07:03:...|1.92603E+18|          1.8118E+18|                           1|1.80683E+18| jewelry.pendant|       2|       60.27|1.51592E+18|             f|           red|         gold|   pearl|\n",
      "|2018-12-03 09:48:...|1.92611E+18|         1.83628E+18|                           1|1.80683E+18| jewelry.earring|       1|       217.4|1.51592E+18|          null|           red|         gold| diamond|\n",
      "|2018-12-03 09:48:...|1.92611E+18|         1.87764E+18|                           1|1.80683E+18|    jewelry.ring|       1|      180.71|1.51592E+18|          null|         white|         gold| diamond|\n",
      "|2018-12-03 09:48:...|1.92611E+18|         1.87834E+18|                           1|1.80683E+18|  jewelry.brooch|       1|       232.1|1.51592E+18|          null|           red|         gold|  fianit|\n",
      "|2018-12-03 11:14:...|1.92616E+18|         1.83955E+18|                           1|1.80683E+18|    jewelry.ring|       1|      203.92|1.51592E+18|          null|        yellow|         gold|    null|\n",
      "|2018-12-03 18:43:...|1.92638E+18|         1.80746E+18|                           1|1.80683E+18| jewelry.earring|       0|       84.45|1.51592E+18|          null|         white|         gold|  fianit|\n",
      "|2018-12-04 06:04:...|1.92672E+18|         1.83975E+18|                           1|1.80683E+18|    jewelry.ring|       0|      254.45|1.51592E+18|          null|           red|         gold|amethyst|\n",
      "|2018-12-04 08:06:...|1.92679E+18|         1.83809E+18|                           1|1.80683E+18| jewelry.earring|       0|      251.15|1.51592E+18|          null|           red|         gold|  quartz|\n",
      "|2018-12-04 12:40:...|1.92692E+18|          1.8744E+18|                           1|1.80683E+18|    jewelry.ring|       1|      154.88|1.51592E+18|          null|         white|         gold| diamond|\n",
      "|2018-12-04 12:40:...|1.92692E+18|          1.8744E+18|                           1|1.80683E+18|    jewelry.ring|       1|      154.88|1.51592E+18|          null|         white|         gold| diamond|\n",
      "|2018-12-04 17:18:...|1.92706E+18|         1.83683E+18|                           1|1.80683E+18| jewelry.earring|       0|      2171.1|1.51592E+18|          null|        yellow|         gold|   topaz|\n",
      "|2018-12-04 19:55:...|1.92714E+18|         1.80757E+18|                           1|1.80683E+18| jewelry.earring|       1|       102.6|1.51592E+18|             f|        yellow|         gold|  garnet|\n",
      "+--------------------+-----------+--------------------+----------------------------+-----------+----------------+--------+------------+-----------+--------------+--------------+-------------+--------+\n",
      "only showing top 20 rows\n",
      "\n"
     ]
    }
   ],
   "source": [
    "jewel.show()"
   ]
  },
  {
   "cell_type": "code",
   "execution_count": 8,
   "id": "6b1b5e46-2121-4ee8-968c-51bcd461db8a",
   "metadata": {},
   "outputs": [
    {
     "name": "stdout",
     "output_type": "stream",
     "text": [
      "root\n",
      " |-- Order datetime: string (nullable = true)\n",
      " |-- Order ID: string (nullable = true)\n",
      " |-- Purchased product ID: string (nullable = true)\n",
      " |-- Quantity of SKU in the order: string (nullable = true)\n",
      " |-- Category ID: string (nullable = true)\n",
      " |-- Category alias: string (nullable = true)\n",
      " |-- Brand ID: string (nullable = true)\n",
      " |-- Price in USD: string (nullable = true)\n",
      " |-- User ID: string (nullable = true)\n",
      " |-- Product gender: string (nullable = true)\n",
      " |-- Product colour: string (nullable = true)\n",
      " |-- Material used: string (nullable = true)\n",
      " |-- Gems: string (nullable = true)\n",
      "\n"
     ]
    }
   ],
   "source": [
    "jewel.printSchema()"
   ]
  },
  {
   "cell_type": "code",
   "execution_count": 9,
   "id": "94811a35-5d11-450d-b198-426dc5a581c2",
   "metadata": {},
   "outputs": [
    {
     "data": {
      "text/plain": [
       "95911"
      ]
     },
     "execution_count": 9,
     "metadata": {},
     "output_type": "execute_result"
    }
   ],
   "source": [
    "jewel.count()"
   ]
  },
  {
   "cell_type": "markdown",
   "id": "cc331d38-434a-45a1-b929-fbe93c6d2b14",
   "metadata": {},
   "source": [
    "Temporary view has been created"
   ]
  },
  {
   "cell_type": "code",
   "execution_count": 10,
   "id": "a7deaa1b-23e1-4388-af13-968656b93e58",
   "metadata": {},
   "outputs": [],
   "source": [
    "jewel.createOrReplaceTempView(\"jewel\")"
   ]
  },
  {
   "cell_type": "code",
   "execution_count": 12,
   "id": "1e21cde6-c3fd-4f99-b0d5-d11fe034406a",
   "metadata": {},
   "outputs": [],
   "source": [
    "a = jewel.groupby(\"Brand ID\").count()"
   ]
  },
  {
   "cell_type": "code",
   "execution_count": 13,
   "id": "e192cc73-8959-4168-8bbb-ef8023260704",
   "metadata": {},
   "outputs": [
    {
     "name": "stderr",
     "output_type": "stream",
     "text": [
      "[Stage 5:>                                                          (0 + 3) / 3]\r"
     ]
    },
    {
     "name": "stdout",
     "output_type": "stream",
     "text": [
      "+-----------+-----+\n",
      "|   Brand ID|count|\n",
      "+-----------+-----+\n",
      "|          3|   58|\n",
      "|          0|44600|\n",
      "|       null| 4785|\n",
      "|          5|    7|\n",
      "|          6|   56|\n",
      "|1.55061E+18|    9|\n",
      "|1.51592E+18| 5251|\n",
      "|          1|32022|\n",
      "|          4|   65|\n",
      "|1.32516E+18|   26|\n",
      "|          2| 8966|\n",
      "|1.46964E+18|    1|\n",
      "|1.33505E+18|    1|\n",
      "|1.46477E+18|    2|\n",
      "|1.32042E+18|    1|\n",
      "|1.47047E+18|    7|\n",
      "|1.50208E+18|    1|\n",
      "|1.33384E+18|    1|\n",
      "| 1.3139E+18|    1|\n",
      "| 1.3181E+18|    5|\n",
      "+-----------+-----+\n",
      "only showing top 20 rows\n",
      "\n"
     ]
    },
    {
     "name": "stderr",
     "output_type": "stream",
     "text": [
      "                                                                                \r"
     ]
    }
   ],
   "source": [
    "a.show()"
   ]
  },
  {
   "cell_type": "markdown",
   "id": "368c7d5b-94e9-447c-81f3-3b189c93e784",
   "metadata": {},
   "source": [
    "Data cleaning has been done\n",
    "- Null values heve been checked and removed.\n",
    "- Duplicate rows have been eliminated."
   ]
  },
  {
   "cell_type": "code",
   "execution_count": 14,
   "id": "0324bf84-1ffe-4b75-bfd1-9450d6cd8424",
   "metadata": {},
   "outputs": [
    {
     "name": "stdout",
     "output_type": "stream",
     "text": [
      "+------------------+\n",
      "|(Brand ID IS NULL)|\n",
      "+------------------+\n",
      "|             false|\n",
      "|              true|\n",
      "|             false|\n",
      "|             false|\n",
      "|             false|\n",
      "|             false|\n",
      "|             false|\n",
      "|             false|\n",
      "|             false|\n",
      "|             false|\n",
      "|             false|\n",
      "|             false|\n",
      "|             false|\n",
      "|             false|\n",
      "|             false|\n",
      "|             false|\n",
      "|             false|\n",
      "|             false|\n",
      "|             false|\n",
      "|             false|\n",
      "+------------------+\n",
      "only showing top 20 rows\n",
      "\n"
     ]
    }
   ],
   "source": [
    "jewel.select(jewel['Brand ID'].isNull()).show()"
   ]
  },
  {
   "cell_type": "code",
   "execution_count": 15,
   "id": "dfca147b-7ef5-4ec6-ad2b-69cf0a710062",
   "metadata": {},
   "outputs": [
    {
     "name": "stdout",
     "output_type": "stream",
     "text": [
      "+--------------------+-----------+--------------------+----------------------------+-----------+----------------+--------+------------+-----------+--------------+--------------+-------------+--------+\n",
      "|      Order datetime|   Order ID|Purchased product ID|Quantity of SKU in the order|Category ID|  Category alias|Brand ID|Price in USD|    User ID|Product gender|Product colour|Material used|    Gems|\n",
      "+--------------------+-----------+--------------------+----------------------------+-----------+----------------+--------+------------+-----------+--------------+--------------+-------------+--------+\n",
      "|2018-12-01 11:40:...|1.92472E+18|          1.8422E+18|                           1|1.80683E+18| jewelry.earring|       0|      561.51|1.51592E+18|          null|           red|         gold| diamond|\n",
      "|2018-12-01 17:38:...| 1.9249E+18|         1.80683E+18|                           1|1.80683E+18|            null|    null|      212.14|1.51592E+18|          null|        yellow|         gold|    null|\n",
      "|2018-12-02 13:53:...|1.92551E+18|         1.84221E+18|                           1|1.80683E+18| jewelry.pendant|       1|       54.66|1.51592E+18|             f|         white|         gold|sapphire|\n",
      "|2018-12-02 17:44:...|1.92563E+18|         1.83557E+18|                           1|1.80683E+18| jewelry.pendant|       0|        88.9|1.51592E+18|             f|           red|         gold| diamond|\n",
      "|2018-12-02 21:30:...|1.92574E+18|         1.87394E+18|                           1|1.80683E+18|jewelry.necklace|       0|      417.67|1.51592E+18|          null|           red|         gold|amethyst|\n",
      "|2018-12-02 22:09:...|1.92576E+18|         1.83557E+18|                           1|1.80683E+18| jewelry.earring|       1|      102.27|1.51592E+18|          null|           red|         gold|    null|\n",
      "|2018-12-02 22:09:...|1.92576E+18|         1.60002E+18|                           1|1.80683E+18| jewelry.earring|       0|      150.55|1.51592E+18|          null|           red|         gold| diamond|\n",
      "|2018-12-02 22:16:...|1.92576E+18|         1.83557E+18|                           1|1.80683E+18| jewelry.earring|       0|       83.42|1.51592E+18|          null|         white|         gold|  fianit|\n",
      "|2018-12-03 07:03:...|1.92603E+18|          1.8118E+18|                           1|1.80683E+18| jewelry.pendant|       2|       60.27|1.51592E+18|             f|           red|         gold|   pearl|\n",
      "|2018-12-03 09:48:...|1.92611E+18|         1.83628E+18|                           1|1.80683E+18| jewelry.earring|       1|       217.4|1.51592E+18|          null|           red|         gold| diamond|\n",
      "|2018-12-03 09:48:...|1.92611E+18|         1.87764E+18|                           1|1.80683E+18|    jewelry.ring|       1|      180.71|1.51592E+18|          null|         white|         gold| diamond|\n",
      "|2018-12-03 09:48:...|1.92611E+18|         1.87834E+18|                           1|1.80683E+18|  jewelry.brooch|       1|       232.1|1.51592E+18|          null|           red|         gold|  fianit|\n",
      "|2018-12-03 11:14:...|1.92616E+18|         1.83955E+18|                           1|1.80683E+18|    jewelry.ring|       1|      203.92|1.51592E+18|          null|        yellow|         gold|    null|\n",
      "|2018-12-03 18:43:...|1.92638E+18|         1.80746E+18|                           1|1.80683E+18| jewelry.earring|       0|       84.45|1.51592E+18|          null|         white|         gold|  fianit|\n",
      "|2018-12-04 06:04:...|1.92672E+18|         1.83975E+18|                           1|1.80683E+18|    jewelry.ring|       0|      254.45|1.51592E+18|          null|           red|         gold|amethyst|\n",
      "|2018-12-04 08:06:...|1.92679E+18|         1.83809E+18|                           1|1.80683E+18| jewelry.earring|       0|      251.15|1.51592E+18|          null|           red|         gold|  quartz|\n",
      "|2018-12-04 12:40:...|1.92692E+18|          1.8744E+18|                           1|1.80683E+18|    jewelry.ring|       1|      154.88|1.51592E+18|          null|         white|         gold| diamond|\n",
      "|2018-12-04 12:40:...|1.92692E+18|          1.8744E+18|                           1|1.80683E+18|    jewelry.ring|       1|      154.88|1.51592E+18|          null|         white|         gold| diamond|\n",
      "|2018-12-04 17:18:...|1.92706E+18|         1.83683E+18|                           1|1.80683E+18| jewelry.earring|       0|      2171.1|1.51592E+18|          null|        yellow|         gold|   topaz|\n",
      "|2018-12-04 19:55:...|1.92714E+18|         1.80757E+18|                           1|1.80683E+18| jewelry.earring|       1|       102.6|1.51592E+18|             f|        yellow|         gold|  garnet|\n",
      "+--------------------+-----------+--------------------+----------------------------+-----------+----------------+--------+------------+-----------+--------------+--------------+-------------+--------+\n",
      "only showing top 20 rows\n",
      "\n"
     ]
    }
   ],
   "source": [
    "jewel.show()"
   ]
  },
  {
   "cell_type": "code",
   "execution_count": 16,
   "id": "e61a9955-095d-4c85-874d-5deed13760de",
   "metadata": {},
   "outputs": [
    {
     "name": "stdout",
     "output_type": "stream",
     "text": [
      "+--------------------+-----------+--------------------+----------------------------+-----------+----------------+--------+------------+-----------+--------------+--------------+-------------+--------+\n",
      "|      Order datetime|   Order ID|Purchased product ID|Quantity of SKU in the order|Category ID|  Category alias|Brand ID|Price in USD|    User ID|Product gender|Product colour|Material used|    Gems|\n",
      "+--------------------+-----------+--------------------+----------------------------+-----------+----------------+--------+------------+-----------+--------------+--------------+-------------+--------+\n",
      "|2018-12-01 11:40:...|1.92472E+18|          1.8422E+18|                           1|1.80683E+18| jewelry.earring|       0|      561.51|1.51592E+18|          null|           red|         gold| diamond|\n",
      "|2018-12-02 13:53:...|1.92551E+18|         1.84221E+18|                           1|1.80683E+18| jewelry.pendant|       1|       54.66|1.51592E+18|             f|         white|         gold|sapphire|\n",
      "|2018-12-02 17:44:...|1.92563E+18|         1.83557E+18|                           1|1.80683E+18| jewelry.pendant|       0|        88.9|1.51592E+18|             f|           red|         gold| diamond|\n",
      "|2018-12-02 21:30:...|1.92574E+18|         1.87394E+18|                           1|1.80683E+18|jewelry.necklace|       0|      417.67|1.51592E+18|          null|           red|         gold|amethyst|\n",
      "|2018-12-02 22:09:...|1.92576E+18|         1.83557E+18|                           1|1.80683E+18| jewelry.earring|       1|      102.27|1.51592E+18|          null|           red|         gold|    null|\n",
      "|2018-12-02 22:09:...|1.92576E+18|         1.60002E+18|                           1|1.80683E+18| jewelry.earring|       0|      150.55|1.51592E+18|          null|           red|         gold| diamond|\n",
      "|2018-12-02 22:16:...|1.92576E+18|         1.83557E+18|                           1|1.80683E+18| jewelry.earring|       0|       83.42|1.51592E+18|          null|         white|         gold|  fianit|\n",
      "|2018-12-03 07:03:...|1.92603E+18|          1.8118E+18|                           1|1.80683E+18| jewelry.pendant|       2|       60.27|1.51592E+18|             f|           red|         gold|   pearl|\n",
      "|2018-12-03 09:48:...|1.92611E+18|         1.83628E+18|                           1|1.80683E+18| jewelry.earring|       1|       217.4|1.51592E+18|          null|           red|         gold| diamond|\n",
      "|2018-12-03 09:48:...|1.92611E+18|         1.87764E+18|                           1|1.80683E+18|    jewelry.ring|       1|      180.71|1.51592E+18|          null|         white|         gold| diamond|\n",
      "|2018-12-03 09:48:...|1.92611E+18|         1.87834E+18|                           1|1.80683E+18|  jewelry.brooch|       1|       232.1|1.51592E+18|          null|           red|         gold|  fianit|\n",
      "|2018-12-03 11:14:...|1.92616E+18|         1.83955E+18|                           1|1.80683E+18|    jewelry.ring|       1|      203.92|1.51592E+18|          null|        yellow|         gold|    null|\n",
      "|2018-12-03 18:43:...|1.92638E+18|         1.80746E+18|                           1|1.80683E+18| jewelry.earring|       0|       84.45|1.51592E+18|          null|         white|         gold|  fianit|\n",
      "|2018-12-04 06:04:...|1.92672E+18|         1.83975E+18|                           1|1.80683E+18|    jewelry.ring|       0|      254.45|1.51592E+18|          null|           red|         gold|amethyst|\n",
      "|2018-12-04 08:06:...|1.92679E+18|         1.83809E+18|                           1|1.80683E+18| jewelry.earring|       0|      251.15|1.51592E+18|          null|           red|         gold|  quartz|\n",
      "|2018-12-04 12:40:...|1.92692E+18|          1.8744E+18|                           1|1.80683E+18|    jewelry.ring|       1|      154.88|1.51592E+18|          null|         white|         gold| diamond|\n",
      "|2018-12-04 12:40:...|1.92692E+18|          1.8744E+18|                           1|1.80683E+18|    jewelry.ring|       1|      154.88|1.51592E+18|          null|         white|         gold| diamond|\n",
      "|2018-12-04 17:18:...|1.92706E+18|         1.83683E+18|                           1|1.80683E+18| jewelry.earring|       0|      2171.1|1.51592E+18|          null|        yellow|         gold|   topaz|\n",
      "|2018-12-04 19:55:...|1.92714E+18|         1.80757E+18|                           1|1.80683E+18| jewelry.earring|       1|       102.6|1.51592E+18|             f|        yellow|         gold|  garnet|\n",
      "|2018-12-04 20:10:...|1.92715E+18|         1.80683E+18|                           1|1.80683E+18| jewelry.pendant|       1|       61.51|1.51592E+18|             f|        yellow|         gold|  garnet|\n",
      "+--------------------+-----------+--------------------+----------------------------+-----------+----------------+--------+------------+-----------+--------------+--------------+-------------+--------+\n",
      "only showing top 20 rows\n",
      "\n"
     ]
    }
   ],
   "source": [
    "nonullBrand = jewel.na.drop(subset = \"Brand ID\").show()"
   ]
  },
  {
   "cell_type": "code",
   "execution_count": 17,
   "id": "b94fa522-234a-42c4-9370-eb145a821c03",
   "metadata": {},
   "outputs": [
    {
     "name": "stdout",
     "output_type": "stream",
     "text": [
      "+------------------+\n",
      "|(Brand ID IS NULL)|\n",
      "+------------------+\n",
      "|             false|\n",
      "|              true|\n",
      "|             false|\n",
      "|             false|\n",
      "|             false|\n",
      "|             false|\n",
      "|             false|\n",
      "|             false|\n",
      "|             false|\n",
      "|             false|\n",
      "|             false|\n",
      "|             false|\n",
      "|             false|\n",
      "|             false|\n",
      "|             false|\n",
      "|             false|\n",
      "|             false|\n",
      "|             false|\n",
      "|             false|\n",
      "|             false|\n",
      "+------------------+\n",
      "only showing top 20 rows\n",
      "\n"
     ]
    }
   ],
   "source": [
    "jewel.select(jewel['Brand ID'].isNull()).show()"
   ]
  },
  {
   "cell_type": "code",
   "execution_count": 18,
   "id": "7327ae33-3ad8-4adc-a94a-bbd621d84def",
   "metadata": {},
   "outputs": [
    {
     "name": "stdout",
     "output_type": "stream",
     "text": [
      "+------------------------+\n",
      "|(Order datetime IS NULL)|\n",
      "+------------------------+\n",
      "|                   false|\n",
      "|                   false|\n",
      "|                   false|\n",
      "|                   false|\n",
      "|                   false|\n",
      "|                   false|\n",
      "|                   false|\n",
      "|                   false|\n",
      "|                   false|\n",
      "|                   false|\n",
      "|                   false|\n",
      "|                   false|\n",
      "|                   false|\n",
      "|                   false|\n",
      "|                   false|\n",
      "|                   false|\n",
      "|                   false|\n",
      "|                   false|\n",
      "|                   false|\n",
      "|                   false|\n",
      "+------------------------+\n",
      "only showing top 20 rows\n",
      "\n"
     ]
    }
   ],
   "source": [
    "jewel.select(jewel['Order datetime'].isNull()).show()"
   ]
  },
  {
   "cell_type": "code",
   "execution_count": 19,
   "id": "5c5ec825-7e6c-4520-92b7-5f43dcaf5ab3",
   "metadata": {},
   "outputs": [
    {
     "name": "stdout",
     "output_type": "stream",
     "text": [
      "+------------------+\n",
      "|(Order ID IS NULL)|\n",
      "+------------------+\n",
      "|             false|\n",
      "|             false|\n",
      "|             false|\n",
      "|             false|\n",
      "|             false|\n",
      "|             false|\n",
      "|             false|\n",
      "|             false|\n",
      "|             false|\n",
      "|             false|\n",
      "|             false|\n",
      "|             false|\n",
      "|             false|\n",
      "|             false|\n",
      "|             false|\n",
      "|             false|\n",
      "|             false|\n",
      "|             false|\n",
      "|             false|\n",
      "|             false|\n",
      "+------------------+\n",
      "only showing top 20 rows\n",
      "\n"
     ]
    }
   ],
   "source": [
    "jewel.select(jewel['Order ID'].isNull()).show()"
   ]
  },
  {
   "cell_type": "code",
   "execution_count": 20,
   "id": "f5d05331-d27f-4f88-8084-cebd65e071b9",
   "metadata": {},
   "outputs": [
    {
     "name": "stdout",
     "output_type": "stream",
     "text": [
      "+--------------+\n",
      "|(Gems IS NULL)|\n",
      "+--------------+\n",
      "|         false|\n",
      "|          true|\n",
      "|         false|\n",
      "|         false|\n",
      "|         false|\n",
      "|          true|\n",
      "|         false|\n",
      "|         false|\n",
      "|         false|\n",
      "|         false|\n",
      "|         false|\n",
      "|         false|\n",
      "|          true|\n",
      "|         false|\n",
      "|         false|\n",
      "|         false|\n",
      "|         false|\n",
      "|         false|\n",
      "|         false|\n",
      "|         false|\n",
      "+--------------+\n",
      "only showing top 20 rows\n",
      "\n"
     ]
    }
   ],
   "source": [
    "jewel.select(jewel['Gems'].isNull()).show()"
   ]
  },
  {
   "cell_type": "code",
   "execution_count": 21,
   "id": "c218de0c-a73c-4109-ba0e-6043eb99b65d",
   "metadata": {},
   "outputs": [
    {
     "name": "stdout",
     "output_type": "stream",
     "text": [
      "+--------------------+-----------+--------------------+----------------------------+-----------+----------------+--------+------------+-----------+--------------+--------------+-------------+--------+\n",
      "|      Order datetime|   Order ID|Purchased product ID|Quantity of SKU in the order|Category ID|  Category alias|Brand ID|Price in USD|    User ID|Product gender|Product colour|Material used|    Gems|\n",
      "+--------------------+-----------+--------------------+----------------------------+-----------+----------------+--------+------------+-----------+--------------+--------------+-------------+--------+\n",
      "|2018-12-01 11:40:...|1.92472E+18|          1.8422E+18|                           1|1.80683E+18| jewelry.earring|       0|      561.51|1.51592E+18|          null|           red|         gold| diamond|\n",
      "|2018-12-02 13:53:...|1.92551E+18|         1.84221E+18|                           1|1.80683E+18| jewelry.pendant|       1|       54.66|1.51592E+18|             f|         white|         gold|sapphire|\n",
      "|2018-12-02 17:44:...|1.92563E+18|         1.83557E+18|                           1|1.80683E+18| jewelry.pendant|       0|        88.9|1.51592E+18|             f|           red|         gold| diamond|\n",
      "|2018-12-02 21:30:...|1.92574E+18|         1.87394E+18|                           1|1.80683E+18|jewelry.necklace|       0|      417.67|1.51592E+18|          null|           red|         gold|amethyst|\n",
      "|2018-12-02 22:09:...|1.92576E+18|         1.60002E+18|                           1|1.80683E+18| jewelry.earring|       0|      150.55|1.51592E+18|          null|           red|         gold| diamond|\n",
      "|2018-12-02 22:16:...|1.92576E+18|         1.83557E+18|                           1|1.80683E+18| jewelry.earring|       0|       83.42|1.51592E+18|          null|         white|         gold|  fianit|\n",
      "|2018-12-03 07:03:...|1.92603E+18|          1.8118E+18|                           1|1.80683E+18| jewelry.pendant|       2|       60.27|1.51592E+18|             f|           red|         gold|   pearl|\n",
      "|2018-12-03 09:48:...|1.92611E+18|         1.83628E+18|                           1|1.80683E+18| jewelry.earring|       1|       217.4|1.51592E+18|          null|           red|         gold| diamond|\n",
      "|2018-12-03 09:48:...|1.92611E+18|         1.87764E+18|                           1|1.80683E+18|    jewelry.ring|       1|      180.71|1.51592E+18|          null|         white|         gold| diamond|\n",
      "|2018-12-03 09:48:...|1.92611E+18|         1.87834E+18|                           1|1.80683E+18|  jewelry.brooch|       1|       232.1|1.51592E+18|          null|           red|         gold|  fianit|\n",
      "|2018-12-03 18:43:...|1.92638E+18|         1.80746E+18|                           1|1.80683E+18| jewelry.earring|       0|       84.45|1.51592E+18|          null|         white|         gold|  fianit|\n",
      "|2018-12-04 06:04:...|1.92672E+18|         1.83975E+18|                           1|1.80683E+18|    jewelry.ring|       0|      254.45|1.51592E+18|          null|           red|         gold|amethyst|\n",
      "|2018-12-04 08:06:...|1.92679E+18|         1.83809E+18|                           1|1.80683E+18| jewelry.earring|       0|      251.15|1.51592E+18|          null|           red|         gold|  quartz|\n",
      "|2018-12-04 12:40:...|1.92692E+18|          1.8744E+18|                           1|1.80683E+18|    jewelry.ring|       1|      154.88|1.51592E+18|          null|         white|         gold| diamond|\n",
      "|2018-12-04 12:40:...|1.92692E+18|          1.8744E+18|                           1|1.80683E+18|    jewelry.ring|       1|      154.88|1.51592E+18|          null|         white|         gold| diamond|\n",
      "|2018-12-04 17:18:...|1.92706E+18|         1.83683E+18|                           1|1.80683E+18| jewelry.earring|       0|      2171.1|1.51592E+18|          null|        yellow|         gold|   topaz|\n",
      "|2018-12-04 19:55:...|1.92714E+18|         1.80757E+18|                           1|1.80683E+18| jewelry.earring|       1|       102.6|1.51592E+18|             f|        yellow|         gold|  garnet|\n",
      "|2018-12-04 20:10:...|1.92715E+18|         1.80683E+18|                           1|1.80683E+18| jewelry.pendant|       1|       61.51|1.51592E+18|             f|        yellow|         gold|  garnet|\n",
      "|2018-12-04 20:12:...|1.92715E+18|          1.3136E+18|                           1|1.80683E+18|jewelry.bracelet|       0|      335.48|1.51592E+18|          null|        yellow|         gold|  garnet|\n",
      "|2018-12-05 07:34:...|1.92749E+18|         1.80725E+18|                           1|1.80683E+18| jewelry.earring|       2|       616.3|1.51592E+18|             f|           red|         gold| diamond|\n",
      "+--------------------+-----------+--------------------+----------------------------+-----------+----------------+--------+------------+-----------+--------------+--------------+-------------+--------+\n",
      "only showing top 20 rows\n",
      "\n"
     ]
    }
   ],
   "source": [
    "nonullGems = jewel.na.drop(subset = \"Gems\").show()"
   ]
  },
  {
   "cell_type": "code",
   "execution_count": 22,
   "id": "f9abe3bb-64d3-444c-a541-c931da606e8c",
   "metadata": {},
   "outputs": [],
   "source": [
    "nonullJewel = jewel.na.drop()"
   ]
  },
  {
   "cell_type": "code",
   "execution_count": 23,
   "id": "48b468f8-0810-45ea-9661-bc9dd7156f0d",
   "metadata": {},
   "outputs": [
    {
     "name": "stdout",
     "output_type": "stream",
     "text": [
      "+--------------------+-----------+--------------------+----------------------------+-----------+----------------+--------+------------+-----------+--------------+--------------+-------------+--------+\n",
      "|      Order datetime|   Order ID|Purchased product ID|Quantity of SKU in the order|Category ID|  Category alias|Brand ID|Price in USD|    User ID|Product gender|Product colour|Material used|    Gems|\n",
      "+--------------------+-----------+--------------------+----------------------------+-----------+----------------+--------+------------+-----------+--------------+--------------+-------------+--------+\n",
      "|2018-12-02 13:53:...|1.92551E+18|         1.84221E+18|                           1|1.80683E+18| jewelry.pendant|       1|       54.66|1.51592E+18|             f|         white|         gold|sapphire|\n",
      "|2018-12-02 17:44:...|1.92563E+18|         1.83557E+18|                           1|1.80683E+18| jewelry.pendant|       0|        88.9|1.51592E+18|             f|           red|         gold| diamond|\n",
      "|2018-12-03 07:03:...|1.92603E+18|          1.8118E+18|                           1|1.80683E+18| jewelry.pendant|       2|       60.27|1.51592E+18|             f|           red|         gold|   pearl|\n",
      "|2018-12-04 19:55:...|1.92714E+18|         1.80757E+18|                           1|1.80683E+18| jewelry.earring|       1|       102.6|1.51592E+18|             f|        yellow|         gold|  garnet|\n",
      "|2018-12-04 20:10:...|1.92715E+18|         1.80683E+18|                           1|1.80683E+18| jewelry.pendant|       1|       61.51|1.51592E+18|             f|        yellow|         gold|  garnet|\n",
      "|2018-12-05 07:34:...|1.92749E+18|         1.80725E+18|                           1|1.80683E+18| jewelry.earring|       2|       616.3|1.51592E+18|             f|           red|         gold| diamond|\n",
      "|2018-12-05 08:25:...|1.92752E+18|         1.31539E+18|                           1|1.80683E+18| jewelry.earring|       1|       67.41|1.48112E+18|             f|         white|         gold|  fianit|\n",
      "|2018-12-05 09:37:...|1.92756E+18|         1.83739E+18|                           1|1.80683E+18| jewelry.earring|       2|      225.89|1.51592E+18|             f|           red|         gold|  garnet|\n",
      "|2018-12-05 19:54:...|1.92787E+18|         1.80746E+18|                           1|1.80683E+18|jewelry.bracelet|       1|      130.71|1.51592E+18|             f|           red|         gold|   pearl|\n",
      "|2018-12-06 13:33:...| 1.9284E+18|         1.83557E+18|                           1|1.80683E+18|jewelry.bracelet|       1|      168.74|1.32453E+18|             f|           red|         gold|  fianit|\n",
      "|2018-12-06 16:29:...|1.92849E+18|         1.83817E+18|                           1|1.80683E+18| jewelry.earring|       1|     1246.44|1.51592E+18|             f|           red|         gold| diamond|\n",
      "|2018-12-08 12:00:...| 1.9298E+18|         1.83566E+18|                           1|1.80683E+18| jewelry.earring|       1|     1424.07|1.51592E+18|             f|           red|         gold| diamond|\n",
      "|2018-12-08 18:47:...|1.93001E+18|         1.85074E+18|                           1|1.80683E+18|    jewelry.ring|       1|      472.47|1.51592E+18|             f|           red|         gold| diamond|\n",
      "|2018-12-09 11:38:...|1.93052E+18|         1.91538E+18|                           1|1.80683E+18|    jewelry.ring|       1|      257.51|1.46011E+18|             f|           red|         gold| diamond|\n",
      "|2018-12-13 09:49:...|1.93336E+18|         1.91373E+18|                           1|1.80683E+18|    jewelry.ring|       1|       81.33|1.51592E+18|             f|           red|         gold|  fianit|\n",
      "|2018-12-14 08:12:...|1.93404E+18|         1.80683E+18|                           1|1.80683E+18|    jewelry.ring|       2|      174.21|1.51592E+18|             f|           red|         gold|    ruby|\n",
      "|2018-12-14 09:28:...|1.93408E+18|         1.83566E+18|                           1|1.80683E+18| jewelry.earring|       1|     1424.07|1.51592E+18|             f|           red|         gold| diamond|\n",
      "|2018-12-16 09:29:...|1.93552E+18|         1.83619E+18|                           1|1.80683E+18|    jewelry.ring|       1|       157.4|1.54124E+18|             f|           red|         gold|  garnet|\n",
      "|2018-12-16 12:54:...|1.93563E+18|         1.83654E+18|                           1|1.80683E+18| jewelry.pendant|       1|      232.74|1.51592E+18|             f|           red|         gold| diamond|\n",
      "|2018-12-16 12:54:...|1.93563E+18|         1.31722E+18|                           1|1.80683E+18| jewelry.earring|       1|      636.85|1.51592E+18|             f|           red|         gold| diamond|\n",
      "+--------------------+-----------+--------------------+----------------------------+-----------+----------------+--------+------------+-----------+--------------+--------------+-------------+--------+\n",
      "only showing top 20 rows\n",
      "\n"
     ]
    }
   ],
   "source": [
    "nonullJewel.show()"
   ]
  },
  {
   "cell_type": "code",
   "execution_count": 24,
   "id": "1c688ff7-2117-4f30-b7e3-add67ee44c2e",
   "metadata": {},
   "outputs": [],
   "source": [
    "cleanedData = nonullJewel.dropDuplicates()"
   ]
  },
  {
   "cell_type": "code",
   "execution_count": 25,
   "id": "e3ebcbdb-1019-4ca6-b1bf-ac09a9c5e92e",
   "metadata": {},
   "outputs": [
    {
     "name": "stderr",
     "output_type": "stream",
     "text": [
      "[Stage 17:===================>                                      (1 + 2) / 3]\r"
     ]
    },
    {
     "name": "stdout",
     "output_type": "stream",
     "text": [
      "+--------------------+-----------+--------------------+----------------------------+-----------+----------------+--------+------------+-----------+--------------+--------------+-------------+-------+\n",
      "|      Order datetime|   Order ID|Purchased product ID|Quantity of SKU in the order|Category ID|  Category alias|Brand ID|Price in USD|    User ID|Product gender|Product colour|Material used|   Gems|\n",
      "+--------------------+-----------+--------------------+----------------------------+-----------+----------------+--------+------------+-----------+--------------+--------------+-------------+-------+\n",
      "|2019-01-30 08:48:...|1.96812E+18|         1.95666E+18|                           1|1.80683E+18|    jewelry.ring|       1|       42.44|1.51592E+18|             f|           red|         gold| fianit|\n",
      "|2019-02-04 23:19:...|1.97218E+18|         1.95666E+18|                           1|1.80683E+18|    jewelry.ring|       1|       102.7|1.51592E+18|             f|         white|         gold|diamond|\n",
      "|2019-02-13 10:14:...|1.97831E+18|         1.95666E+18|                           1|1.80683E+18|    jewelry.ring|       2|      507.95|1.55061E+18|             f|           red|         gold|diamond|\n",
      "|2019-03-03 18:45:...|1.99161E+18|         1.95666E+18|                           1|1.80683E+18| jewelry.pendant|       0|      136.85|1.51592E+18|             f|           red|         gold|diamond|\n",
      "|2019-03-26 10:27:...|2.00803E+18|         1.51597E+18|                           1|1.80683E+18| jewelry.pendant|       2|      123.15|1.32516E+18|             f|           red|         gold| fianit|\n",
      "|2019-04-03 13:21:...|2.01392E+18|         1.95666E+18|                           1|1.80683E+18| jewelry.earring|       1|     1123.25|1.51592E+18|             f|         white|         gold|diamond|\n",
      "|2019-04-26 04:15:...|2.03031E+18|         1.95666E+18|                           1|1.80683E+18|    jewelry.ring|       1|      301.23|1.51592E+18|             f|           red|         gold|  pearl|\n",
      "|2019-08-11 06:04:...|2.10792E+18|         1.95666E+18|                           1|1.80683E+18|    jewelry.ring|       2|      369.73|1.51592E+18|             f|           red|         gold|diamond|\n",
      "|2019-08-19 19:28:...|2.11412E+18|         1.35429E+18|                           1|1.80683E+18| jewelry.earring|       1|      246.55|1.51592E+18|             f|           red|         gold| fianit|\n",
      "|2019-08-26 03:47:...|2.11872E+18|         1.95666E+18|                           1|1.80683E+18| jewelry.earring|       2|      198.49|1.51592E+18|             f|           red|         gold| garnet|\n",
      "|2019-09-10 09:50:...|2.12978E+18|         1.95666E+18|                           1|1.80683E+18|jewelry.bracelet|       2|      342.33|1.51592E+18|             f|           red|         gold|   ruby|\n",
      "|2019-09-20 19:32:...|2.13732E+18|         1.51597E+18|                           1|1.80683E+18| jewelry.earring|       1|      654.75|1.51592E+18|             f|           red|         gold|diamond|\n",
      "|2019-10-11 15:06:...| 2.1524E+18|         1.95666E+18|                           1|1.80683E+18|    jewelry.ring|       1|       116.3|1.51592E+18|             f|           red|         gold| fianit|\n",
      "|2019-10-11 19:02:...|2.15252E+18|         1.95666E+18|                           1|1.80683E+18| jewelry.pendant|       1|       157.4|1.51592E+18|             f|           red|         gold|diamond|\n",
      "|2019-10-13 20:00:...|  2.154E+18|         1.94869E+18|                           1|1.80683E+18|    jewelry.ring|       1|      383.42|1.51592E+18|             f|           red|         gold|emerald|\n",
      "|2019-10-29 11:28:...|2.16534E+18|         1.51597E+18|                           1|1.80683E+18| jewelry.pendant|       1|       60.78|1.51592E+18|             f|           red|         gold| fianit|\n",
      "|2019-11-10 12:57:...|2.17408E+18|         1.95666E+18|                           1|1.80683E+18|    jewelry.ring|       0|     1020.41|1.51592E+18|             f|         white|         gold|diamond|\n",
      "|2019-11-13 14:05:...|2.17629E+18|         1.95666E+18|                           1|1.80683E+18| jewelry.earring|       1|      124.62|1.51592E+18|             f|           red|         gold|  topaz|\n",
      "|2019-11-14 09:46:...|2.17688E+18|         1.95666E+18|                           1|1.80683E+18| jewelry.earring|       1|     2136.85|1.51592E+18|             f|           red|         gold|diamond|\n",
      "|2019-11-17 10:33:...|2.17908E+18|         1.92929E+18|                           1|1.80683E+18| jewelry.pendant|       1|      369.73|1.51592E+18|             f|           red|         gold|diamond|\n",
      "+--------------------+-----------+--------------------+----------------------------+-----------+----------------+--------+------------+-----------+--------------+--------------+-------------+-------+\n",
      "only showing top 20 rows\n",
      "\n"
     ]
    },
    {
     "name": "stderr",
     "output_type": "stream",
     "text": [
      "                                                                                \r"
     ]
    }
   ],
   "source": [
    "cleanedData.show()"
   ]
  },
  {
   "cell_type": "code",
   "execution_count": 26,
   "id": "fac5cd36-1127-46c4-b657-7fb46c210750",
   "metadata": {},
   "outputs": [
    {
     "name": "stdout",
     "output_type": "stream",
     "text": [
      "+--------------------+-----------+--------------------+----------------------------+-----------+----------------+--------+------------+-----------+--------------+--------------+-------------+-------+\n",
      "|      Order datetime|   Order ID|Purchased product ID|Quantity of SKU in the order|Category ID|  Category alias|Brand_id|Price in USD|    User ID|Product gender|Product colour|Material used|   Gems|\n",
      "+--------------------+-----------+--------------------+----------------------------+-----------+----------------+--------+------------+-----------+--------------+--------------+-------------+-------+\n",
      "|2019-01-30 08:48:...|1.96812E+18|         1.95666E+18|                           1|1.80683E+18|    jewelry.ring|       1|       42.44|1.51592E+18|             f|           red|         gold| fianit|\n",
      "|2019-02-04 23:19:...|1.97218E+18|         1.95666E+18|                           1|1.80683E+18|    jewelry.ring|       1|       102.7|1.51592E+18|             f|         white|         gold|diamond|\n",
      "|2019-02-13 10:14:...|1.97831E+18|         1.95666E+18|                           1|1.80683E+18|    jewelry.ring|       2|      507.95|1.55061E+18|             f|           red|         gold|diamond|\n",
      "|2019-03-03 18:45:...|1.99161E+18|         1.95666E+18|                           1|1.80683E+18| jewelry.pendant|       0|      136.85|1.51592E+18|             f|           red|         gold|diamond|\n",
      "|2019-03-26 10:27:...|2.00803E+18|         1.51597E+18|                           1|1.80683E+18| jewelry.pendant|       2|      123.15|1.32516E+18|             f|           red|         gold| fianit|\n",
      "|2019-04-03 13:21:...|2.01392E+18|         1.95666E+18|                           1|1.80683E+18| jewelry.earring|       1|     1123.25|1.51592E+18|             f|         white|         gold|diamond|\n",
      "|2019-04-26 04:15:...|2.03031E+18|         1.95666E+18|                           1|1.80683E+18|    jewelry.ring|       1|      301.23|1.51592E+18|             f|           red|         gold|  pearl|\n",
      "|2019-08-11 06:04:...|2.10792E+18|         1.95666E+18|                           1|1.80683E+18|    jewelry.ring|       2|      369.73|1.51592E+18|             f|           red|         gold|diamond|\n",
      "|2019-08-19 19:28:...|2.11412E+18|         1.35429E+18|                           1|1.80683E+18| jewelry.earring|       1|      246.55|1.51592E+18|             f|           red|         gold| fianit|\n",
      "|2019-08-26 03:47:...|2.11872E+18|         1.95666E+18|                           1|1.80683E+18| jewelry.earring|       2|      198.49|1.51592E+18|             f|           red|         gold| garnet|\n",
      "|2019-09-10 09:50:...|2.12978E+18|         1.95666E+18|                           1|1.80683E+18|jewelry.bracelet|       2|      342.33|1.51592E+18|             f|           red|         gold|   ruby|\n",
      "|2019-09-20 19:32:...|2.13732E+18|         1.51597E+18|                           1|1.80683E+18| jewelry.earring|       1|      654.75|1.51592E+18|             f|           red|         gold|diamond|\n",
      "|2019-10-11 15:06:...| 2.1524E+18|         1.95666E+18|                           1|1.80683E+18|    jewelry.ring|       1|       116.3|1.51592E+18|             f|           red|         gold| fianit|\n",
      "|2019-10-11 19:02:...|2.15252E+18|         1.95666E+18|                           1|1.80683E+18| jewelry.pendant|       1|       157.4|1.51592E+18|             f|           red|         gold|diamond|\n",
      "|2019-10-13 20:00:...|  2.154E+18|         1.94869E+18|                           1|1.80683E+18|    jewelry.ring|       1|      383.42|1.51592E+18|             f|           red|         gold|emerald|\n",
      "|2019-10-29 11:28:...|2.16534E+18|         1.51597E+18|                           1|1.80683E+18| jewelry.pendant|       1|       60.78|1.51592E+18|             f|           red|         gold| fianit|\n",
      "|2019-11-10 12:57:...|2.17408E+18|         1.95666E+18|                           1|1.80683E+18|    jewelry.ring|       0|     1020.41|1.51592E+18|             f|         white|         gold|diamond|\n",
      "|2019-11-13 14:05:...|2.17629E+18|         1.95666E+18|                           1|1.80683E+18| jewelry.earring|       1|      124.62|1.51592E+18|             f|           red|         gold|  topaz|\n",
      "|2019-11-14 09:46:...|2.17688E+18|         1.95666E+18|                           1|1.80683E+18| jewelry.earring|       1|     2136.85|1.51592E+18|             f|           red|         gold|diamond|\n",
      "|2019-11-17 10:33:...|2.17908E+18|         1.92929E+18|                           1|1.80683E+18| jewelry.pendant|       1|      369.73|1.51592E+18|             f|           red|         gold|diamond|\n",
      "+--------------------+-----------+--------------------+----------------------------+-----------+----------------+--------+------------+-----------+--------------+--------------+-------------+-------+\n",
      "only showing top 20 rows\n",
      "\n"
     ]
    }
   ],
   "source": [
    "cleanedData.withColumnRenamed(\"Brand ID\", \"Brand_id\").show()"
   ]
  },
  {
   "cell_type": "code",
   "execution_count": 27,
   "id": "2311fb72-d2b0-4395-b361-c14fe987c28e",
   "metadata": {},
   "outputs": [
    {
     "name": "stdout",
     "output_type": "stream",
     "text": [
      "+--------------------+-----------+--------------------+--------+-----------+----------------+--------+------------+-----------+--------------+--------------+-------------+-------+\n",
      "|      Order datetime|   Order ID|Purchased product ID|Quantity|Category ID|  Category alias|Brand ID|Price in USD|    User ID|Product gender|Product colour|Material used|   Gems|\n",
      "+--------------------+-----------+--------------------+--------+-----------+----------------+--------+------------+-----------+--------------+--------------+-------------+-------+\n",
      "|2019-01-30 08:48:...|1.96812E+18|         1.95666E+18|       1|1.80683E+18|    jewelry.ring|       1|       42.44|1.51592E+18|             f|           red|         gold| fianit|\n",
      "|2019-02-04 23:19:...|1.97218E+18|         1.95666E+18|       1|1.80683E+18|    jewelry.ring|       1|       102.7|1.51592E+18|             f|         white|         gold|diamond|\n",
      "|2019-02-13 10:14:...|1.97831E+18|         1.95666E+18|       1|1.80683E+18|    jewelry.ring|       2|      507.95|1.55061E+18|             f|           red|         gold|diamond|\n",
      "|2019-03-03 18:45:...|1.99161E+18|         1.95666E+18|       1|1.80683E+18| jewelry.pendant|       0|      136.85|1.51592E+18|             f|           red|         gold|diamond|\n",
      "|2019-03-26 10:27:...|2.00803E+18|         1.51597E+18|       1|1.80683E+18| jewelry.pendant|       2|      123.15|1.32516E+18|             f|           red|         gold| fianit|\n",
      "|2019-04-03 13:21:...|2.01392E+18|         1.95666E+18|       1|1.80683E+18| jewelry.earring|       1|     1123.25|1.51592E+18|             f|         white|         gold|diamond|\n",
      "|2019-04-26 04:15:...|2.03031E+18|         1.95666E+18|       1|1.80683E+18|    jewelry.ring|       1|      301.23|1.51592E+18|             f|           red|         gold|  pearl|\n",
      "|2019-08-11 06:04:...|2.10792E+18|         1.95666E+18|       1|1.80683E+18|    jewelry.ring|       2|      369.73|1.51592E+18|             f|           red|         gold|diamond|\n",
      "|2019-08-19 19:28:...|2.11412E+18|         1.35429E+18|       1|1.80683E+18| jewelry.earring|       1|      246.55|1.51592E+18|             f|           red|         gold| fianit|\n",
      "|2019-08-26 03:47:...|2.11872E+18|         1.95666E+18|       1|1.80683E+18| jewelry.earring|       2|      198.49|1.51592E+18|             f|           red|         gold| garnet|\n",
      "|2019-09-10 09:50:...|2.12978E+18|         1.95666E+18|       1|1.80683E+18|jewelry.bracelet|       2|      342.33|1.51592E+18|             f|           red|         gold|   ruby|\n",
      "|2019-09-20 19:32:...|2.13732E+18|         1.51597E+18|       1|1.80683E+18| jewelry.earring|       1|      654.75|1.51592E+18|             f|           red|         gold|diamond|\n",
      "|2019-10-11 15:06:...| 2.1524E+18|         1.95666E+18|       1|1.80683E+18|    jewelry.ring|       1|       116.3|1.51592E+18|             f|           red|         gold| fianit|\n",
      "|2019-10-11 19:02:...|2.15252E+18|         1.95666E+18|       1|1.80683E+18| jewelry.pendant|       1|       157.4|1.51592E+18|             f|           red|         gold|diamond|\n",
      "|2019-10-13 20:00:...|  2.154E+18|         1.94869E+18|       1|1.80683E+18|    jewelry.ring|       1|      383.42|1.51592E+18|             f|           red|         gold|emerald|\n",
      "|2019-10-29 11:28:...|2.16534E+18|         1.51597E+18|       1|1.80683E+18| jewelry.pendant|       1|       60.78|1.51592E+18|             f|           red|         gold| fianit|\n",
      "|2019-11-10 12:57:...|2.17408E+18|         1.95666E+18|       1|1.80683E+18|    jewelry.ring|       0|     1020.41|1.51592E+18|             f|         white|         gold|diamond|\n",
      "|2019-11-13 14:05:...|2.17629E+18|         1.95666E+18|       1|1.80683E+18| jewelry.earring|       1|      124.62|1.51592E+18|             f|           red|         gold|  topaz|\n",
      "|2019-11-14 09:46:...|2.17688E+18|         1.95666E+18|       1|1.80683E+18| jewelry.earring|       1|     2136.85|1.51592E+18|             f|           red|         gold|diamond|\n",
      "|2019-11-17 10:33:...|2.17908E+18|         1.92929E+18|       1|1.80683E+18| jewelry.pendant|       1|      369.73|1.51592E+18|             f|           red|         gold|diamond|\n",
      "+--------------------+-----------+--------------------+--------+-----------+----------------+--------+------------+-----------+--------------+--------------+-------------+-------+\n",
      "only showing top 20 rows\n",
      "\n"
     ]
    }
   ],
   "source": [
    "cleanedData.withColumnRenamed(\"Quantity of SKU in the order\", \"Quantity\").show()"
   ]
  },
  {
   "cell_type": "code",
   "execution_count": 28,
   "id": "7e35a2f5-fa03-49ed-be78-214fea0d1457",
   "metadata": {},
   "outputs": [
    {
     "name": "stdout",
     "output_type": "stream",
     "text": [
      "+--------------------+-----------+--------------------+----------------------------+-----------+----------------+--------+------------+-----------+--------------+--------------+-------------+-------+\n",
      "|      order_datetime|   Order ID|Purchased product ID|Quantity of SKU in the order|Category ID|  Category alias|Brand ID|Price in USD|    User ID|Product gender|Product colour|Material used|   Gems|\n",
      "+--------------------+-----------+--------------------+----------------------------+-----------+----------------+--------+------------+-----------+--------------+--------------+-------------+-------+\n",
      "|2019-01-30 08:48:...|1.96812E+18|         1.95666E+18|                           1|1.80683E+18|    jewelry.ring|       1|       42.44|1.51592E+18|             f|           red|         gold| fianit|\n",
      "|2019-02-04 23:19:...|1.97218E+18|         1.95666E+18|                           1|1.80683E+18|    jewelry.ring|       1|       102.7|1.51592E+18|             f|         white|         gold|diamond|\n",
      "|2019-02-13 10:14:...|1.97831E+18|         1.95666E+18|                           1|1.80683E+18|    jewelry.ring|       2|      507.95|1.55061E+18|             f|           red|         gold|diamond|\n",
      "|2019-03-03 18:45:...|1.99161E+18|         1.95666E+18|                           1|1.80683E+18| jewelry.pendant|       0|      136.85|1.51592E+18|             f|           red|         gold|diamond|\n",
      "|2019-03-26 10:27:...|2.00803E+18|         1.51597E+18|                           1|1.80683E+18| jewelry.pendant|       2|      123.15|1.32516E+18|             f|           red|         gold| fianit|\n",
      "|2019-04-03 13:21:...|2.01392E+18|         1.95666E+18|                           1|1.80683E+18| jewelry.earring|       1|     1123.25|1.51592E+18|             f|         white|         gold|diamond|\n",
      "|2019-04-26 04:15:...|2.03031E+18|         1.95666E+18|                           1|1.80683E+18|    jewelry.ring|       1|      301.23|1.51592E+18|             f|           red|         gold|  pearl|\n",
      "|2019-08-11 06:04:...|2.10792E+18|         1.95666E+18|                           1|1.80683E+18|    jewelry.ring|       2|      369.73|1.51592E+18|             f|           red|         gold|diamond|\n",
      "|2019-08-19 19:28:...|2.11412E+18|         1.35429E+18|                           1|1.80683E+18| jewelry.earring|       1|      246.55|1.51592E+18|             f|           red|         gold| fianit|\n",
      "|2019-08-26 03:47:...|2.11872E+18|         1.95666E+18|                           1|1.80683E+18| jewelry.earring|       2|      198.49|1.51592E+18|             f|           red|         gold| garnet|\n",
      "|2019-09-10 09:50:...|2.12978E+18|         1.95666E+18|                           1|1.80683E+18|jewelry.bracelet|       2|      342.33|1.51592E+18|             f|           red|         gold|   ruby|\n",
      "|2019-09-20 19:32:...|2.13732E+18|         1.51597E+18|                           1|1.80683E+18| jewelry.earring|       1|      654.75|1.51592E+18|             f|           red|         gold|diamond|\n",
      "|2019-10-11 15:06:...| 2.1524E+18|         1.95666E+18|                           1|1.80683E+18|    jewelry.ring|       1|       116.3|1.51592E+18|             f|           red|         gold| fianit|\n",
      "|2019-10-11 19:02:...|2.15252E+18|         1.95666E+18|                           1|1.80683E+18| jewelry.pendant|       1|       157.4|1.51592E+18|             f|           red|         gold|diamond|\n",
      "|2019-10-13 20:00:...|  2.154E+18|         1.94869E+18|                           1|1.80683E+18|    jewelry.ring|       1|      383.42|1.51592E+18|             f|           red|         gold|emerald|\n",
      "|2019-10-29 11:28:...|2.16534E+18|         1.51597E+18|                           1|1.80683E+18| jewelry.pendant|       1|       60.78|1.51592E+18|             f|           red|         gold| fianit|\n",
      "|2019-11-10 12:57:...|2.17408E+18|         1.95666E+18|                           1|1.80683E+18|    jewelry.ring|       0|     1020.41|1.51592E+18|             f|         white|         gold|diamond|\n",
      "|2019-11-13 14:05:...|2.17629E+18|         1.95666E+18|                           1|1.80683E+18| jewelry.earring|       1|      124.62|1.51592E+18|             f|           red|         gold|  topaz|\n",
      "|2019-11-14 09:46:...|2.17688E+18|         1.95666E+18|                           1|1.80683E+18| jewelry.earring|       1|     2136.85|1.51592E+18|             f|           red|         gold|diamond|\n",
      "|2019-11-17 10:33:...|2.17908E+18|         1.92929E+18|                           1|1.80683E+18| jewelry.pendant|       1|      369.73|1.51592E+18|             f|           red|         gold|diamond|\n",
      "+--------------------+-----------+--------------------+----------------------------+-----------+----------------+--------+------------+-----------+--------------+--------------+-------------+-------+\n",
      "only showing top 20 rows\n",
      "\n"
     ]
    }
   ],
   "source": [
    "cleanedData.withColumnRenamed(\"Order datetime\", \"order_datetime\").show()"
   ]
  },
  {
   "cell_type": "code",
   "execution_count": 29,
   "id": "548f187f-efde-4e44-b2dc-4d9fb7100ea1",
   "metadata": {},
   "outputs": [
    {
     "name": "stdout",
     "output_type": "stream",
     "text": [
      "+--------------------+-----------+--------------------+----------------------------+-----------+----------------+--------+------------+-----------+--------------+--------------+-------------+-------+\n",
      "|      Order datetime|   order_id|Purchased product ID|Quantity of SKU in the order|Category ID|  Category alias|Brand ID|Price in USD|    User ID|Product gender|Product colour|Material used|   Gems|\n",
      "+--------------------+-----------+--------------------+----------------------------+-----------+----------------+--------+------------+-----------+--------------+--------------+-------------+-------+\n",
      "|2019-01-30 08:48:...|1.96812E+18|         1.95666E+18|                           1|1.80683E+18|    jewelry.ring|       1|       42.44|1.51592E+18|             f|           red|         gold| fianit|\n",
      "|2019-02-04 23:19:...|1.97218E+18|         1.95666E+18|                           1|1.80683E+18|    jewelry.ring|       1|       102.7|1.51592E+18|             f|         white|         gold|diamond|\n",
      "|2019-02-13 10:14:...|1.97831E+18|         1.95666E+18|                           1|1.80683E+18|    jewelry.ring|       2|      507.95|1.55061E+18|             f|           red|         gold|diamond|\n",
      "|2019-03-03 18:45:...|1.99161E+18|         1.95666E+18|                           1|1.80683E+18| jewelry.pendant|       0|      136.85|1.51592E+18|             f|           red|         gold|diamond|\n",
      "|2019-03-26 10:27:...|2.00803E+18|         1.51597E+18|                           1|1.80683E+18| jewelry.pendant|       2|      123.15|1.32516E+18|             f|           red|         gold| fianit|\n",
      "|2019-04-03 13:21:...|2.01392E+18|         1.95666E+18|                           1|1.80683E+18| jewelry.earring|       1|     1123.25|1.51592E+18|             f|         white|         gold|diamond|\n",
      "|2019-04-26 04:15:...|2.03031E+18|         1.95666E+18|                           1|1.80683E+18|    jewelry.ring|       1|      301.23|1.51592E+18|             f|           red|         gold|  pearl|\n",
      "|2019-08-11 06:04:...|2.10792E+18|         1.95666E+18|                           1|1.80683E+18|    jewelry.ring|       2|      369.73|1.51592E+18|             f|           red|         gold|diamond|\n",
      "|2019-08-19 19:28:...|2.11412E+18|         1.35429E+18|                           1|1.80683E+18| jewelry.earring|       1|      246.55|1.51592E+18|             f|           red|         gold| fianit|\n",
      "|2019-08-26 03:47:...|2.11872E+18|         1.95666E+18|                           1|1.80683E+18| jewelry.earring|       2|      198.49|1.51592E+18|             f|           red|         gold| garnet|\n",
      "|2019-09-10 09:50:...|2.12978E+18|         1.95666E+18|                           1|1.80683E+18|jewelry.bracelet|       2|      342.33|1.51592E+18|             f|           red|         gold|   ruby|\n",
      "|2019-09-20 19:32:...|2.13732E+18|         1.51597E+18|                           1|1.80683E+18| jewelry.earring|       1|      654.75|1.51592E+18|             f|           red|         gold|diamond|\n",
      "|2019-10-11 15:06:...| 2.1524E+18|         1.95666E+18|                           1|1.80683E+18|    jewelry.ring|       1|       116.3|1.51592E+18|             f|           red|         gold| fianit|\n",
      "|2019-10-11 19:02:...|2.15252E+18|         1.95666E+18|                           1|1.80683E+18| jewelry.pendant|       1|       157.4|1.51592E+18|             f|           red|         gold|diamond|\n",
      "|2019-10-13 20:00:...|  2.154E+18|         1.94869E+18|                           1|1.80683E+18|    jewelry.ring|       1|      383.42|1.51592E+18|             f|           red|         gold|emerald|\n",
      "|2019-10-29 11:28:...|2.16534E+18|         1.51597E+18|                           1|1.80683E+18| jewelry.pendant|       1|       60.78|1.51592E+18|             f|           red|         gold| fianit|\n",
      "|2019-11-10 12:57:...|2.17408E+18|         1.95666E+18|                           1|1.80683E+18|    jewelry.ring|       0|     1020.41|1.51592E+18|             f|         white|         gold|diamond|\n",
      "|2019-11-13 14:05:...|2.17629E+18|         1.95666E+18|                           1|1.80683E+18| jewelry.earring|       1|      124.62|1.51592E+18|             f|           red|         gold|  topaz|\n",
      "|2019-11-14 09:46:...|2.17688E+18|         1.95666E+18|                           1|1.80683E+18| jewelry.earring|       1|     2136.85|1.51592E+18|             f|           red|         gold|diamond|\n",
      "|2019-11-17 10:33:...|2.17908E+18|         1.92929E+18|                           1|1.80683E+18| jewelry.pendant|       1|      369.73|1.51592E+18|             f|           red|         gold|diamond|\n",
      "+--------------------+-----------+--------------------+----------------------------+-----------+----------------+--------+------------+-----------+--------------+--------------+-------------+-------+\n",
      "only showing top 20 rows\n",
      "\n"
     ]
    }
   ],
   "source": [
    "cleanedData.withColumnRenamed(\"Order ID\", \"order_id\").show()"
   ]
  },
  {
   "cell_type": "code",
   "execution_count": 30,
   "id": "30ab0203-91e2-415d-b3eb-02ddc728d270",
   "metadata": {},
   "outputs": [
    {
     "name": "stdout",
     "output_type": "stream",
     "text": [
      "+--------------------+-----------+-----------+----------------------------+-----------+----------------+--------+------------+-----------+--------------+--------------+-------------+-------+\n",
      "|      Order datetime|   Order ID| product_id|Quantity of SKU in the order|Category ID|  Category alias|Brand ID|Price in USD|    User ID|Product gender|Product colour|Material used|   Gems|\n",
      "+--------------------+-----------+-----------+----------------------------+-----------+----------------+--------+------------+-----------+--------------+--------------+-------------+-------+\n",
      "|2019-01-30 08:48:...|1.96812E+18|1.95666E+18|                           1|1.80683E+18|    jewelry.ring|       1|       42.44|1.51592E+18|             f|           red|         gold| fianit|\n",
      "|2019-02-04 23:19:...|1.97218E+18|1.95666E+18|                           1|1.80683E+18|    jewelry.ring|       1|       102.7|1.51592E+18|             f|         white|         gold|diamond|\n",
      "|2019-02-13 10:14:...|1.97831E+18|1.95666E+18|                           1|1.80683E+18|    jewelry.ring|       2|      507.95|1.55061E+18|             f|           red|         gold|diamond|\n",
      "|2019-03-03 18:45:...|1.99161E+18|1.95666E+18|                           1|1.80683E+18| jewelry.pendant|       0|      136.85|1.51592E+18|             f|           red|         gold|diamond|\n",
      "|2019-03-26 10:27:...|2.00803E+18|1.51597E+18|                           1|1.80683E+18| jewelry.pendant|       2|      123.15|1.32516E+18|             f|           red|         gold| fianit|\n",
      "|2019-04-03 13:21:...|2.01392E+18|1.95666E+18|                           1|1.80683E+18| jewelry.earring|       1|     1123.25|1.51592E+18|             f|         white|         gold|diamond|\n",
      "|2019-04-26 04:15:...|2.03031E+18|1.95666E+18|                           1|1.80683E+18|    jewelry.ring|       1|      301.23|1.51592E+18|             f|           red|         gold|  pearl|\n",
      "|2019-08-11 06:04:...|2.10792E+18|1.95666E+18|                           1|1.80683E+18|    jewelry.ring|       2|      369.73|1.51592E+18|             f|           red|         gold|diamond|\n",
      "|2019-08-19 19:28:...|2.11412E+18|1.35429E+18|                           1|1.80683E+18| jewelry.earring|       1|      246.55|1.51592E+18|             f|           red|         gold| fianit|\n",
      "|2019-08-26 03:47:...|2.11872E+18|1.95666E+18|                           1|1.80683E+18| jewelry.earring|       2|      198.49|1.51592E+18|             f|           red|         gold| garnet|\n",
      "|2019-09-10 09:50:...|2.12978E+18|1.95666E+18|                           1|1.80683E+18|jewelry.bracelet|       2|      342.33|1.51592E+18|             f|           red|         gold|   ruby|\n",
      "|2019-09-20 19:32:...|2.13732E+18|1.51597E+18|                           1|1.80683E+18| jewelry.earring|       1|      654.75|1.51592E+18|             f|           red|         gold|diamond|\n",
      "|2019-10-11 15:06:...| 2.1524E+18|1.95666E+18|                           1|1.80683E+18|    jewelry.ring|       1|       116.3|1.51592E+18|             f|           red|         gold| fianit|\n",
      "|2019-10-11 19:02:...|2.15252E+18|1.95666E+18|                           1|1.80683E+18| jewelry.pendant|       1|       157.4|1.51592E+18|             f|           red|         gold|diamond|\n",
      "|2019-10-13 20:00:...|  2.154E+18|1.94869E+18|                           1|1.80683E+18|    jewelry.ring|       1|      383.42|1.51592E+18|             f|           red|         gold|emerald|\n",
      "|2019-10-29 11:28:...|2.16534E+18|1.51597E+18|                           1|1.80683E+18| jewelry.pendant|       1|       60.78|1.51592E+18|             f|           red|         gold| fianit|\n",
      "|2019-11-10 12:57:...|2.17408E+18|1.95666E+18|                           1|1.80683E+18|    jewelry.ring|       0|     1020.41|1.51592E+18|             f|         white|         gold|diamond|\n",
      "|2019-11-13 14:05:...|2.17629E+18|1.95666E+18|                           1|1.80683E+18| jewelry.earring|       1|      124.62|1.51592E+18|             f|           red|         gold|  topaz|\n",
      "|2019-11-14 09:46:...|2.17688E+18|1.95666E+18|                           1|1.80683E+18| jewelry.earring|       1|     2136.85|1.51592E+18|             f|           red|         gold|diamond|\n",
      "|2019-11-17 10:33:...|2.17908E+18|1.92929E+18|                           1|1.80683E+18| jewelry.pendant|       1|      369.73|1.51592E+18|             f|           red|         gold|diamond|\n",
      "+--------------------+-----------+-----------+----------------------------+-----------+----------------+--------+------------+-----------+--------------+--------------+-------------+-------+\n",
      "only showing top 20 rows\n",
      "\n"
     ]
    }
   ],
   "source": [
    "cleanedData.withColumnRenamed(\"Purchased product ID\", \"product_id\").show()"
   ]
  },
  {
   "cell_type": "code",
   "execution_count": 31,
   "id": "35feb66e-8118-4829-87e6-ea860a2a8ef7",
   "metadata": {},
   "outputs": [
    {
     "name": "stdout",
     "output_type": "stream",
     "text": [
      "+--------+-----+\n",
      "|Brand Id|count|\n",
      "+--------+-----+\n",
      "|       0| 5459|\n",
      "|       6|    4|\n",
      "|       1|22247|\n",
      "|       2| 5832|\n",
      "+--------+-----+\n",
      "\n"
     ]
    }
   ],
   "source": [
    "cleanedData.groupby(\"Brand Id\").count().show()"
   ]
  },
  {
   "cell_type": "markdown",
   "id": "67cacc36-19a9-43a6-9ab6-d395c0ac59ff",
   "metadata": {},
   "source": [
    "## use of groupby function\n",
    "   - The total count of each Brand ID has been calculated and arranged in descending order"
   ]
  },
  {
   "cell_type": "code",
   "execution_count": 32,
   "id": "241323b2-8700-4d45-bf90-afca06140f75",
   "metadata": {},
   "outputs": [],
   "source": [
    "cd = cleanedData.groupby(\"Brand Id\").count().withColumnRenamed('count', 'total brand"
   ]
  },
  {
   "cell_type": "code",
   "execution_count": 33,
   "id": "9cbb6264-8a9a-41f5-98f8-c6f9b4544367",
   "metadata": {},
   "outputs": [
    {
     "ename": "AnalysisException",
     "evalue": "Column '`total brands`' does not exist. Did you mean one of the following? [total brands.count, total brands.Brand Id];\n'Sort ['total brands DESC NULLS LAST], true\n+- SubqueryAlias `total brands`\n   +- Aggregate [Brand Id#23], [Brand Id#23, count(1) AS count#1021L]\n      +- Deduplicate [Order ID#18, Category ID#21, Brand ID#23, Gems#29, Purchased product ID#19, Product colour#27, Quantity of SKU in the order#20, Material used#28, User ID#25, Product gender#26, Order datetime#17, Price in USD#24, Category alias#22]\n         +- Filter atleastnnonnulls(13, Order datetime#17, Order ID#18, Purchased product ID#19, Quantity of SKU in the order#20, Category ID#21, Category alias#22, Brand ID#23, Price in USD#24, User ID#25, Product gender#26, Product colour#27, Material used#28, Gems#29)\n            +- Relation [Order datetime#17,Order ID#18,Purchased product ID#19,Quantity of SKU in the order#20,Category ID#21,Category alias#22,Brand ID#23,Price in USD#24,User ID#25,Product gender#26,Product colour#27,Material used#28,Gems#29] csv\n",
     "output_type": "error",
     "traceback": [
      "\u001b[0;31m---------------------------------------------------------------------------\u001b[0m",
      "\u001b[0;31mAnalysisException\u001b[0m                         Traceback (most recent call last)",
      "Cell \u001b[0;32mIn[33], line 1\u001b[0m\n\u001b[0;32m----> 1\u001b[0m cdSort \u001b[38;5;241m=\u001b[39m \u001b[43mcd\u001b[49m\u001b[38;5;241;43m.\u001b[39;49m\u001b[43msort\u001b[49m\u001b[43m(\u001b[49m\u001b[43mF\u001b[49m\u001b[38;5;241;43m.\u001b[39;49m\u001b[43mdesc\u001b[49m\u001b[43m(\u001b[49m\u001b[38;5;124;43m\"\u001b[39;49m\u001b[38;5;124;43mtotal brands\u001b[39;49m\u001b[38;5;124;43m\"\u001b[39;49m\u001b[43m)\u001b[49m\u001b[43m)\u001b[49m\n",
      "File \u001b[0;32m~/spark/lib/python3.8/site-packages/pyspark/sql/dataframe.py:2736\u001b[0m, in \u001b[0;36mDataFrame.sort\u001b[0;34m(self, *cols, **kwargs)\u001b[0m\n\u001b[1;32m   2645\u001b[0m \u001b[38;5;28;01mdef\u001b[39;00m \u001b[38;5;21msort\u001b[39m(\n\u001b[1;32m   2646\u001b[0m     \u001b[38;5;28mself\u001b[39m, \u001b[38;5;241m*\u001b[39mcols: Union[\u001b[38;5;28mstr\u001b[39m, Column, List[Union[\u001b[38;5;28mstr\u001b[39m, Column]]], \u001b[38;5;241m*\u001b[39m\u001b[38;5;241m*\u001b[39mkwargs: Any\n\u001b[1;32m   2647\u001b[0m ) \u001b[38;5;241m-\u001b[39m\u001b[38;5;241m>\u001b[39m \u001b[38;5;124m\"\u001b[39m\u001b[38;5;124mDataFrame\u001b[39m\u001b[38;5;124m\"\u001b[39m:\n\u001b[1;32m   2648\u001b[0m \u001b[38;5;250m    \u001b[39m\u001b[38;5;124;03m\"\"\"Returns a new :class:`DataFrame` sorted by the specified column(s).\u001b[39;00m\n\u001b[1;32m   2649\u001b[0m \n\u001b[1;32m   2650\u001b[0m \u001b[38;5;124;03m    .. versionadded:: 1.3.0\u001b[39;00m\n\u001b[0;32m   (...)\u001b[0m\n\u001b[1;32m   2734\u001b[0m \u001b[38;5;124;03m    +---+-----+\u001b[39;00m\n\u001b[1;32m   2735\u001b[0m \u001b[38;5;124;03m    \"\"\"\u001b[39;00m\n\u001b[0;32m-> 2736\u001b[0m     jdf \u001b[38;5;241m=\u001b[39m \u001b[38;5;28;43mself\u001b[39;49m\u001b[38;5;241;43m.\u001b[39;49m\u001b[43m_jdf\u001b[49m\u001b[38;5;241;43m.\u001b[39;49m\u001b[43msort\u001b[49m\u001b[43m(\u001b[49m\u001b[38;5;28;43mself\u001b[39;49m\u001b[38;5;241;43m.\u001b[39;49m\u001b[43m_sort_cols\u001b[49m\u001b[43m(\u001b[49m\u001b[43mcols\u001b[49m\u001b[43m,\u001b[49m\u001b[43m \u001b[49m\u001b[43mkwargs\u001b[49m\u001b[43m)\u001b[49m\u001b[43m)\u001b[49m\n\u001b[1;32m   2737\u001b[0m     \u001b[38;5;28;01mreturn\u001b[39;00m DataFrame(jdf, \u001b[38;5;28mself\u001b[39m\u001b[38;5;241m.\u001b[39msparkSession)\n",
      "File \u001b[0;32m~/spark/lib/python3.8/site-packages/py4j/java_gateway.py:1322\u001b[0m, in \u001b[0;36mJavaMember.__call__\u001b[0;34m(self, *args)\u001b[0m\n\u001b[1;32m   1316\u001b[0m command \u001b[38;5;241m=\u001b[39m proto\u001b[38;5;241m.\u001b[39mCALL_COMMAND_NAME \u001b[38;5;241m+\u001b[39m\\\n\u001b[1;32m   1317\u001b[0m     \u001b[38;5;28mself\u001b[39m\u001b[38;5;241m.\u001b[39mcommand_header \u001b[38;5;241m+\u001b[39m\\\n\u001b[1;32m   1318\u001b[0m     args_command \u001b[38;5;241m+\u001b[39m\\\n\u001b[1;32m   1319\u001b[0m     proto\u001b[38;5;241m.\u001b[39mEND_COMMAND_PART\n\u001b[1;32m   1321\u001b[0m answer \u001b[38;5;241m=\u001b[39m \u001b[38;5;28mself\u001b[39m\u001b[38;5;241m.\u001b[39mgateway_client\u001b[38;5;241m.\u001b[39msend_command(command)\n\u001b[0;32m-> 1322\u001b[0m return_value \u001b[38;5;241m=\u001b[39m \u001b[43mget_return_value\u001b[49m\u001b[43m(\u001b[49m\n\u001b[1;32m   1323\u001b[0m \u001b[43m    \u001b[49m\u001b[43manswer\u001b[49m\u001b[43m,\u001b[49m\u001b[43m \u001b[49m\u001b[38;5;28;43mself\u001b[39;49m\u001b[38;5;241;43m.\u001b[39;49m\u001b[43mgateway_client\u001b[49m\u001b[43m,\u001b[49m\u001b[43m \u001b[49m\u001b[38;5;28;43mself\u001b[39;49m\u001b[38;5;241;43m.\u001b[39;49m\u001b[43mtarget_id\u001b[49m\u001b[43m,\u001b[49m\u001b[43m \u001b[49m\u001b[38;5;28;43mself\u001b[39;49m\u001b[38;5;241;43m.\u001b[39;49m\u001b[43mname\u001b[49m\u001b[43m)\u001b[49m\n\u001b[1;32m   1325\u001b[0m \u001b[38;5;28;01mfor\u001b[39;00m temp_arg \u001b[38;5;129;01min\u001b[39;00m temp_args:\n\u001b[1;32m   1326\u001b[0m     \u001b[38;5;28;01mif\u001b[39;00m \u001b[38;5;28mhasattr\u001b[39m(temp_arg, \u001b[38;5;124m\"\u001b[39m\u001b[38;5;124m_detach\u001b[39m\u001b[38;5;124m\"\u001b[39m):\n",
      "File \u001b[0;32m~/spark/lib/python3.8/site-packages/pyspark/errors/exceptions/captured.py:185\u001b[0m, in \u001b[0;36mcapture_sql_exception.<locals>.deco\u001b[0;34m(*a, **kw)\u001b[0m\n\u001b[1;32m    181\u001b[0m converted \u001b[38;5;241m=\u001b[39m convert_exception(e\u001b[38;5;241m.\u001b[39mjava_exception)\n\u001b[1;32m    182\u001b[0m \u001b[38;5;28;01mif\u001b[39;00m \u001b[38;5;129;01mnot\u001b[39;00m \u001b[38;5;28misinstance\u001b[39m(converted, UnknownException):\n\u001b[1;32m    183\u001b[0m     \u001b[38;5;66;03m# Hide where the exception came from that shows a non-Pythonic\u001b[39;00m\n\u001b[1;32m    184\u001b[0m     \u001b[38;5;66;03m# JVM exception message.\u001b[39;00m\n\u001b[0;32m--> 185\u001b[0m     \u001b[38;5;28;01mraise\u001b[39;00m converted \u001b[38;5;28;01mfrom\u001b[39;00m \u001b[38;5;28;01mNone\u001b[39;00m\n\u001b[1;32m    186\u001b[0m \u001b[38;5;28;01melse\u001b[39;00m:\n\u001b[1;32m    187\u001b[0m     \u001b[38;5;28;01mraise\u001b[39;00m\n",
      "\u001b[0;31mAnalysisException\u001b[0m: Column '`total brands`' does not exist. Did you mean one of the following? [total brands.count, total brands.Brand Id];\n'Sort ['total brands DESC NULLS LAST], true\n+- SubqueryAlias `total brands`\n   +- Aggregate [Brand Id#23], [Brand Id#23, count(1) AS count#1021L]\n      +- Deduplicate [Order ID#18, Category ID#21, Brand ID#23, Gems#29, Purchased product ID#19, Product colour#27, Quantity of SKU in the order#20, Material used#28, User ID#25, Product gender#26, Order datetime#17, Price in USD#24, Category alias#22]\n         +- Filter atleastnnonnulls(13, Order datetime#17, Order ID#18, Purchased product ID#19, Quantity of SKU in the order#20, Category ID#21, Category alias#22, Brand ID#23, Price in USD#24, User ID#25, Product gender#26, Product colour#27, Material used#28, Gems#29)\n            +- Relation [Order datetime#17,Order ID#18,Purchased product ID#19,Quantity of SKU in the order#20,Category ID#21,Category alias#22,Brand ID#23,Price in USD#24,User ID#25,Product gender#26,Product colour#27,Material used#28,Gems#29] csv\n"
     ]
    }
   ],
   "source": [
    " cdSort = cd.sort(F.desc(\"total brands\"))"
   ]
  },
  {
   "cell_type": "code",
   "execution_count": 62,
   "id": "3a270e54-49d7-4626-a8eb-5e0e3b3a316b",
   "metadata": {},
   "outputs": [
    {
     "name": "stdout",
     "output_type": "stream",
     "text": [
      "+--------+------------+\n",
      "|Brand Id|total brands|\n",
      "+--------+------------+\n",
      "|       1|       22247|\n",
      "|       2|        5832|\n",
      "|       0|        5459|\n",
      "|       6|           4|\n",
      "+--------+------------+\n",
      "\n"
     ]
    }
   ],
   "source": [
    "cdSort.show()"
   ]
  },
  {
   "cell_type": "code",
   "execution_count": null,
   "id": "ae7d50ba-f87b-4d79-ae11-f47968590410",
   "metadata": {},
   "outputs": [],
   "source": []
  }
 ],
 "metadata": {
  "kernelspec": {
   "display_name": "Python 3 (ipykernel)",
   "language": "python",
   "name": "python3"
  },
  "language_info": {
   "codemirror_mode": {
    "name": "ipython",
    "version": 3
   },
   "file_extension": ".py",
   "mimetype": "text/x-python",
   "name": "python",
   "nbconvert_exporter": "python",
   "pygments_lexer": "ipython3",
   "version": "3.8.10"
  }
 },
 "nbformat": 4,
 "nbformat_minor": 5
}
